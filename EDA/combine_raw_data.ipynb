{
 "cells": [
  {
   "cell_type": "code",
   "execution_count": 1,
   "id": "7ad4d96a-af6e-4ed9-bc44-db18ee2d52a5",
   "metadata": {},
   "outputs": [],
   "source": [
    "import warnings\n",
    "warnings.filterwarnings('ignore')\n",
    "import pandas as pd\n",
    "import numpy as np\n",
    "import sys\n",
    "sys.path.append('../../../../infrastructure/tools')\n",
    "from utilities import *\n",
    "from plotting import *"
   ]
  },
  {
   "cell_type": "code",
   "execution_count": 2,
   "id": "30471b50-6462-43bf-954c-38b5b3e0d695",
   "metadata": {},
   "outputs": [],
   "source": [
    "raw_user_data = pd.read_csv(\"../../../../fraud_detection_transac/data/users_data.csv\").sort_values('id').reset_index(drop=True)"
   ]
  },
  {
   "cell_type": "code",
   "execution_count": 3,
   "id": "19e7667b-25ef-43e8-ab7a-d3ab2cadf6e5",
   "metadata": {},
   "outputs": [
    {
     "data": {
      "text/plain": [
       "(2000, 14)"
      ]
     },
     "execution_count": 3,
     "metadata": {},
     "output_type": "execute_result"
    }
   ],
   "source": [
    "raw_user_data.shape"
   ]
  },
  {
   "cell_type": "code",
   "execution_count": 4,
   "id": "ff5872a3-cb3a-4475-999b-811dbd109c21",
   "metadata": {},
   "outputs": [],
   "source": [
    "raw_user_data = raw_user_data.rename(columns={'id':'user_id'})"
   ]
  },
  {
   "cell_type": "code",
   "execution_count": 5,
   "id": "1bb3a496-7806-4f8f-9406-8fb73c41109d",
   "metadata": {},
   "outputs": [],
   "source": [
    "raw_transaction_data = pd.read_csv(\"../../../../fraud_detection_transac/data/transactions_data.csv\").sort_values(['id','client_id']).reset_index(drop=True)"
   ]
  },
  {
   "cell_type": "code",
   "execution_count": 6,
   "id": "4b8a04ff-90f6-40a8-acf2-e7463d6b9059",
   "metadata": {},
   "outputs": [
    {
     "data": {
      "text/plain": [
       "(13305915, 12)"
      ]
     },
     "execution_count": 6,
     "metadata": {},
     "output_type": "execute_result"
    }
   ],
   "source": [
    "raw_transaction_data.shape"
   ]
  },
  {
   "cell_type": "code",
   "execution_count": 7,
   "id": "815d7642-42de-4560-9ec9-b6012137f23a",
   "metadata": {},
   "outputs": [],
   "source": [
    "raw_transaction_data = raw_transaction_data.rename(columns={'id':'transaction_id'})"
   ]
  },
  {
   "cell_type": "code",
   "execution_count": 8,
   "id": "a5c1b4e3-bf3b-4043-a23e-8d5611e20893",
   "metadata": {},
   "outputs": [],
   "source": [
    "raw_card_data = pd.read_csv(\"../../../../fraud_detection_transac/data/cards_data.csv\").sort_values(['id','client_id']).reset_index(drop=True)"
   ]
  },
  {
   "cell_type": "code",
   "execution_count": 9,
   "id": "2c45d3d4-71b3-4ae1-967c-5be5e0932841",
   "metadata": {},
   "outputs": [
    {
     "data": {
      "text/plain": [
       "(6146, 13)"
      ]
     },
     "execution_count": 9,
     "metadata": {},
     "output_type": "execute_result"
    }
   ],
   "source": [
    "raw_card_data.shape"
   ]
  },
  {
   "cell_type": "code",
   "execution_count": 10,
   "id": "8181122e-c5cd-4f8e-93ac-607b10da82e1",
   "metadata": {},
   "outputs": [],
   "source": [
    "raw_card_data = raw_card_data.rename(columns={'id':'client_id','client_id':'user_id'})"
   ]
  },
  {
   "cell_type": "code",
   "execution_count": 11,
   "id": "7e82d20c-63ad-4dc8-9cc3-624897d41f27",
   "metadata": {},
   "outputs": [],
   "source": [
    "labels = pd.read_json(\"../../../../fraud_detection_transac/data/train_fraud_labels.json\").reset_index()"
   ]
  },
  {
   "cell_type": "code",
   "execution_count": 12,
   "id": "8f072c1a-7b80-4072-91c0-44c47282880e",
   "metadata": {},
   "outputs": [],
   "source": [
    "labels = labels.rename(columns={'index':'transaction_id'})"
   ]
  },
  {
   "cell_type": "code",
   "execution_count": 13,
   "id": "fefa2a30-105b-42a8-a3c0-4fb12e687282",
   "metadata": {},
   "outputs": [
    {
     "data": {
      "text/plain": [
       "(8914963, 2)"
      ]
     },
     "execution_count": 13,
     "metadata": {},
     "output_type": "execute_result"
    }
   ],
   "source": [
    "labels.shape"
   ]
  },
  {
   "cell_type": "code",
   "execution_count": 14,
   "id": "85b56a6b-4cb7-41d7-aac9-7e5e7f0bcdbd",
   "metadata": {},
   "outputs": [],
   "source": [
    "mcc = pd.read_json(\"../../../../fraud_detection_transac/data/mcc_codes.json\",typ='series').reset_index()"
   ]
  },
  {
   "cell_type": "code",
   "execution_count": 15,
   "id": "65ec397c-da50-411a-90a6-58641e0c5d29",
   "metadata": {},
   "outputs": [],
   "source": [
    "mcc = mcc.rename(columns={'index':'client_id'})"
   ]
  },
  {
   "cell_type": "code",
   "execution_count": 16,
   "id": "302ba4b2-834a-49dd-8a64-011efe0bec08",
   "metadata": {},
   "outputs": [],
   "source": [
    "transactions = raw_transaction_data.merge(mcc,on='client_id', how='left').merge(labels,on='transaction_id',how='left')"
   ]
  },
  {
   "cell_type": "code",
   "execution_count": 17,
   "id": "190070e2-92d5-4f1c-9dbb-78c848ca4391",
   "metadata": {},
   "outputs": [],
   "source": [
    "transactions = transactions.sort_values(by=['client_id','transaction_id']).reset_index(drop=True)"
   ]
  },
  {
   "cell_type": "code",
   "execution_count": 18,
   "id": "2fa5248f-bd20-497d-8bdd-b29dad8cb2ea",
   "metadata": {},
   "outputs": [
    {
     "data": {
      "text/plain": [
       "(13305915, 14)"
      ]
     },
     "execution_count": 18,
     "metadata": {},
     "output_type": "execute_result"
    }
   ],
   "source": [
    "transactions.shape"
   ]
  },
  {
   "cell_type": "code",
   "execution_count": 19,
   "id": "1e82333b-fc4e-42be-806d-a9ae5457d8d3",
   "metadata": {},
   "outputs": [],
   "source": [
    "cards = raw_card_data.merge(raw_user_data, on='user_id', how='left')"
   ]
  },
  {
   "cell_type": "code",
   "execution_count": 20,
   "id": "8208a5d6-c5f6-4a84-8ce4-b7a8ffec13ce",
   "metadata": {},
   "outputs": [],
   "source": [
    "cards = cards.sort_values(by=['client_id','user_id','card_number']).reset_index(drop=True)"
   ]
  },
  {
   "cell_type": "code",
   "execution_count": 21,
   "id": "3c5bdf88-5e05-4c1d-96e1-ecd8578a9ad2",
   "metadata": {},
   "outputs": [
    {
     "data": {
      "text/plain": [
       "(6146, 26)"
      ]
     },
     "execution_count": 21,
     "metadata": {},
     "output_type": "execute_result"
    }
   ],
   "source": [
    "cards.shape"
   ]
  },
  {
   "cell_type": "code",
   "execution_count": 23,
   "id": "76aa66a5-94ea-4a6a-9823-723de5939fea",
   "metadata": {},
   "outputs": [],
   "source": [
    "transactions.to_csv(\"../../../data/intermediate/transactions.csv\", index=False)"
   ]
  },
  {
   "cell_type": "code",
   "execution_count": 24,
   "id": "9ae4b293-7244-4294-98a4-17ca52c2e96c",
   "metadata": {},
   "outputs": [],
   "source": [
    "cards.to_csv(\"../../../data/intermediate/cards.csv\", index=False)"
   ]
  },
  {
   "cell_type": "code",
   "execution_count": null,
   "id": "5039d59a-f13b-4c20-89a4-ea822331c190",
   "metadata": {},
   "outputs": [],
   "source": []
  },
  {
   "cell_type": "code",
   "execution_count": null,
   "id": "203eac5f-9e72-49de-93b6-0b0d5f4c6591",
   "metadata": {},
   "outputs": [],
   "source": []
  },
  {
   "cell_type": "code",
   "execution_count": null,
   "id": "fc793611-23c4-422a-bb5c-ada153eb47c0",
   "metadata": {},
   "outputs": [],
   "source": []
  },
  {
   "cell_type": "code",
   "execution_count": null,
   "id": "beacccf9-c3e3-411c-bcad-23817717414b",
   "metadata": {},
   "outputs": [],
   "source": []
  },
  {
   "cell_type": "code",
   "execution_count": null,
   "id": "aa81c087-c406-42ad-9b34-6d3ef4346726",
   "metadata": {},
   "outputs": [],
   "source": []
  }
 ],
 "metadata": {
  "kernelspec": {
   "display_name": "Python 3 (ipykernel)",
   "language": "python",
   "name": "python3"
  },
  "language_info": {
   "codemirror_mode": {
    "name": "ipython",
    "version": 3
   },
   "file_extension": ".py",
   "mimetype": "text/x-python",
   "name": "python",
   "nbconvert_exporter": "python",
   "pygments_lexer": "ipython3",
   "version": "3.13.5"
  }
 },
 "nbformat": 4,
 "nbformat_minor": 5
}
