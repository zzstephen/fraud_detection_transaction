{
 "cells": [
  {
   "cell_type": "code",
   "execution_count": 1,
   "id": "7ad4d96a-af6e-4ed9-bc44-db18ee2d52a5",
   "metadata": {},
   "outputs": [],
   "source": [
    "import warnings\n",
    "warnings.filterwarnings('ignore')\n",
    "import pandas as pd\n",
    "import numpy as np\n",
    "import sys\n",
    "sys.path.append('../../../../infrastructure/tools')\n",
    "from utilities import *\n",
    "from plotting import *"
   ]
  },
  {
   "cell_type": "code",
   "execution_count": 2,
   "id": "30471b50-6462-43bf-954c-38b5b3e0d695",
   "metadata": {},
   "outputs": [],
   "source": [
    "raw_user_data = pd.read_csv(\"../../../../fraud_detection_transac/data/users_data.csv\").sort_values('id').reset_index(drop=True)"
   ]
  },
  {
   "cell_type": "code",
   "execution_count": 3,
   "id": "19e7667b-25ef-43e8-ab7a-d3ab2cadf6e5",
   "metadata": {},
   "outputs": [
    {
     "data": {
      "text/plain": [
       "(2000, 14)"
      ]
     },
     "execution_count": 3,
     "metadata": {},
     "output_type": "execute_result"
    }
   ],
   "source": [
    "raw_user_data.shape"
   ]
  },
  {
   "cell_type": "code",
   "execution_count": 4,
   "id": "ff5872a3-cb3a-4475-999b-811dbd109c21",
   "metadata": {},
   "outputs": [],
   "source": [
    "raw_user_data = raw_user_data.rename(columns={'id':'user_id'})"
   ]
  },
  {
   "cell_type": "code",
   "execution_count": 5,
   "id": "a93fae8a-8a2c-4e76-9ad3-68b0ec8efced",
   "metadata": {},
   "outputs": [
    {
     "data": {
      "text/html": [
       "<div>\n",
       "<style scoped>\n",
       "    .dataframe tbody tr th:only-of-type {\n",
       "        vertical-align: middle;\n",
       "    }\n",
       "\n",
       "    .dataframe tbody tr th {\n",
       "        vertical-align: top;\n",
       "    }\n",
       "\n",
       "    .dataframe thead th {\n",
       "        text-align: right;\n",
       "    }\n",
       "</style>\n",
       "<table border=\"1\" class=\"dataframe\">\n",
       "  <thead>\n",
       "    <tr style=\"text-align: right;\">\n",
       "      <th></th>\n",
       "      <th>user_id</th>\n",
       "      <th>current_age</th>\n",
       "      <th>retirement_age</th>\n",
       "      <th>birth_year</th>\n",
       "      <th>birth_month</th>\n",
       "      <th>gender</th>\n",
       "      <th>address</th>\n",
       "      <th>latitude</th>\n",
       "      <th>longitude</th>\n",
       "      <th>per_capita_income</th>\n",
       "      <th>yearly_income</th>\n",
       "      <th>total_debt</th>\n",
       "      <th>credit_score</th>\n",
       "      <th>num_credit_cards</th>\n",
       "    </tr>\n",
       "  </thead>\n",
       "  <tbody>\n",
       "    <tr>\n",
       "      <th>0</th>\n",
       "      <td>0</td>\n",
       "      <td>33</td>\n",
       "      <td>69</td>\n",
       "      <td>1986</td>\n",
       "      <td>3</td>\n",
       "      <td>Male</td>\n",
       "      <td>858 Plum Avenue</td>\n",
       "      <td>43.59</td>\n",
       "      <td>-70.33</td>\n",
       "      <td>$29237</td>\n",
       "      <td>$59613</td>\n",
       "      <td>$36199</td>\n",
       "      <td>763</td>\n",
       "      <td>4</td>\n",
       "    </tr>\n",
       "    <tr>\n",
       "      <th>1</th>\n",
       "      <td>1</td>\n",
       "      <td>43</td>\n",
       "      <td>74</td>\n",
       "      <td>1976</td>\n",
       "      <td>4</td>\n",
       "      <td>Female</td>\n",
       "      <td>113 Burns Lane</td>\n",
       "      <td>30.44</td>\n",
       "      <td>-87.18</td>\n",
       "      <td>$22247</td>\n",
       "      <td>$45360</td>\n",
       "      <td>$14587</td>\n",
       "      <td>704</td>\n",
       "      <td>3</td>\n",
       "    </tr>\n",
       "    <tr>\n",
       "      <th>2</th>\n",
       "      <td>2</td>\n",
       "      <td>48</td>\n",
       "      <td>64</td>\n",
       "      <td>1971</td>\n",
       "      <td>8</td>\n",
       "      <td>Male</td>\n",
       "      <td>6035 Forest Avenue</td>\n",
       "      <td>40.84</td>\n",
       "      <td>-73.87</td>\n",
       "      <td>$13461</td>\n",
       "      <td>$27447</td>\n",
       "      <td>$80850</td>\n",
       "      <td>673</td>\n",
       "      <td>5</td>\n",
       "    </tr>\n",
       "    <tr>\n",
       "      <th>3</th>\n",
       "      <td>3</td>\n",
       "      <td>49</td>\n",
       "      <td>65</td>\n",
       "      <td>1970</td>\n",
       "      <td>12</td>\n",
       "      <td>Male</td>\n",
       "      <td>840 Elm Avenue</td>\n",
       "      <td>33.89</td>\n",
       "      <td>-98.51</td>\n",
       "      <td>$13705</td>\n",
       "      <td>$27943</td>\n",
       "      <td>$18693</td>\n",
       "      <td>681</td>\n",
       "      <td>4</td>\n",
       "    </tr>\n",
       "    <tr>\n",
       "      <th>4</th>\n",
       "      <td>4</td>\n",
       "      <td>54</td>\n",
       "      <td>72</td>\n",
       "      <td>1965</td>\n",
       "      <td>3</td>\n",
       "      <td>Female</td>\n",
       "      <td>6016 Little Creek Boulevard</td>\n",
       "      <td>47.61</td>\n",
       "      <td>-122.30</td>\n",
       "      <td>$37485</td>\n",
       "      <td>$76431</td>\n",
       "      <td>$115362</td>\n",
       "      <td>716</td>\n",
       "      <td>5</td>\n",
       "    </tr>\n",
       "  </tbody>\n",
       "</table>\n",
       "</div>"
      ],
      "text/plain": [
       "   user_id  current_age  retirement_age  birth_year  birth_month  gender  \\\n",
       "0        0           33              69        1986            3    Male   \n",
       "1        1           43              74        1976            4  Female   \n",
       "2        2           48              64        1971            8    Male   \n",
       "3        3           49              65        1970           12    Male   \n",
       "4        4           54              72        1965            3  Female   \n",
       "\n",
       "                       address  latitude  longitude per_capita_income  \\\n",
       "0              858 Plum Avenue     43.59     -70.33            $29237   \n",
       "1               113 Burns Lane     30.44     -87.18            $22247   \n",
       "2           6035 Forest Avenue     40.84     -73.87            $13461   \n",
       "3               840 Elm Avenue     33.89     -98.51            $13705   \n",
       "4  6016 Little Creek Boulevard     47.61    -122.30            $37485   \n",
       "\n",
       "  yearly_income total_debt  credit_score  num_credit_cards  \n",
       "0        $59613     $36199           763                 4  \n",
       "1        $45360     $14587           704                 3  \n",
       "2        $27447     $80850           673                 5  \n",
       "3        $27943     $18693           681                 4  \n",
       "4        $76431    $115362           716                 5  "
      ]
     },
     "execution_count": 5,
     "metadata": {},
     "output_type": "execute_result"
    }
   ],
   "source": [
    "raw_user_data.head()"
   ]
  },
  {
   "cell_type": "code",
   "execution_count": 6,
   "id": "1bb3a496-7806-4f8f-9406-8fb73c41109d",
   "metadata": {},
   "outputs": [],
   "source": [
    "raw_transaction_data = pd.read_csv(\"../../../../fraud_detection_transac/data/transactions_data.csv\").sort_values(['id','client_id']).reset_index(drop=True)"
   ]
  },
  {
   "cell_type": "code",
   "execution_count": 7,
   "id": "4b8a04ff-90f6-40a8-acf2-e7463d6b9059",
   "metadata": {},
   "outputs": [
    {
     "data": {
      "text/plain": [
       "(13305915, 12)"
      ]
     },
     "execution_count": 7,
     "metadata": {},
     "output_type": "execute_result"
    }
   ],
   "source": [
    "raw_transaction_data.shape"
   ]
  },
  {
   "cell_type": "code",
   "execution_count": 8,
   "id": "815d7642-42de-4560-9ec9-b6012137f23a",
   "metadata": {},
   "outputs": [],
   "source": [
    "raw_transaction_data = raw_transaction_data.rename(columns={'id':'transaction_id','client_id':'user_id'})"
   ]
  },
  {
   "cell_type": "code",
   "execution_count": 9,
   "id": "b95cd4e4-6471-483a-8e92-2cbc850876d7",
   "metadata": {},
   "outputs": [
    {
     "data": {
      "text/html": [
       "<div>\n",
       "<style scoped>\n",
       "    .dataframe tbody tr th:only-of-type {\n",
       "        vertical-align: middle;\n",
       "    }\n",
       "\n",
       "    .dataframe tbody tr th {\n",
       "        vertical-align: top;\n",
       "    }\n",
       "\n",
       "    .dataframe thead th {\n",
       "        text-align: right;\n",
       "    }\n",
       "</style>\n",
       "<table border=\"1\" class=\"dataframe\">\n",
       "  <thead>\n",
       "    <tr style=\"text-align: right;\">\n",
       "      <th></th>\n",
       "      <th>transaction_id</th>\n",
       "      <th>date</th>\n",
       "      <th>user_id</th>\n",
       "      <th>card_id</th>\n",
       "      <th>amount</th>\n",
       "      <th>use_chip</th>\n",
       "      <th>merchant_id</th>\n",
       "      <th>merchant_city</th>\n",
       "      <th>merchant_state</th>\n",
       "      <th>zip</th>\n",
       "      <th>mcc</th>\n",
       "      <th>errors</th>\n",
       "    </tr>\n",
       "  </thead>\n",
       "  <tbody>\n",
       "    <tr>\n",
       "      <th>0</th>\n",
       "      <td>7475327</td>\n",
       "      <td>2010-01-01 00:01:00</td>\n",
       "      <td>1556</td>\n",
       "      <td>2972</td>\n",
       "      <td>$-77.00</td>\n",
       "      <td>Swipe Transaction</td>\n",
       "      <td>59935</td>\n",
       "      <td>Beulah</td>\n",
       "      <td>ND</td>\n",
       "      <td>58523.0</td>\n",
       "      <td>5499</td>\n",
       "      <td>NaN</td>\n",
       "    </tr>\n",
       "    <tr>\n",
       "      <th>1</th>\n",
       "      <td>7475328</td>\n",
       "      <td>2010-01-01 00:02:00</td>\n",
       "      <td>561</td>\n",
       "      <td>4575</td>\n",
       "      <td>$14.57</td>\n",
       "      <td>Swipe Transaction</td>\n",
       "      <td>67570</td>\n",
       "      <td>Bettendorf</td>\n",
       "      <td>IA</td>\n",
       "      <td>52722.0</td>\n",
       "      <td>5311</td>\n",
       "      <td>NaN</td>\n",
       "    </tr>\n",
       "    <tr>\n",
       "      <th>2</th>\n",
       "      <td>7475329</td>\n",
       "      <td>2010-01-01 00:02:00</td>\n",
       "      <td>1129</td>\n",
       "      <td>102</td>\n",
       "      <td>$80.00</td>\n",
       "      <td>Swipe Transaction</td>\n",
       "      <td>27092</td>\n",
       "      <td>Vista</td>\n",
       "      <td>CA</td>\n",
       "      <td>92084.0</td>\n",
       "      <td>4829</td>\n",
       "      <td>NaN</td>\n",
       "    </tr>\n",
       "    <tr>\n",
       "      <th>3</th>\n",
       "      <td>7475331</td>\n",
       "      <td>2010-01-01 00:05:00</td>\n",
       "      <td>430</td>\n",
       "      <td>2860</td>\n",
       "      <td>$200.00</td>\n",
       "      <td>Swipe Transaction</td>\n",
       "      <td>27092</td>\n",
       "      <td>Crown Point</td>\n",
       "      <td>IN</td>\n",
       "      <td>46307.0</td>\n",
       "      <td>4829</td>\n",
       "      <td>NaN</td>\n",
       "    </tr>\n",
       "    <tr>\n",
       "      <th>4</th>\n",
       "      <td>7475332</td>\n",
       "      <td>2010-01-01 00:06:00</td>\n",
       "      <td>848</td>\n",
       "      <td>3915</td>\n",
       "      <td>$46.41</td>\n",
       "      <td>Swipe Transaction</td>\n",
       "      <td>13051</td>\n",
       "      <td>Harwood</td>\n",
       "      <td>MD</td>\n",
       "      <td>20776.0</td>\n",
       "      <td>5813</td>\n",
       "      <td>NaN</td>\n",
       "    </tr>\n",
       "  </tbody>\n",
       "</table>\n",
       "</div>"
      ],
      "text/plain": [
       "   transaction_id                 date  user_id  card_id   amount  \\\n",
       "0         7475327  2010-01-01 00:01:00     1556     2972  $-77.00   \n",
       "1         7475328  2010-01-01 00:02:00      561     4575   $14.57   \n",
       "2         7475329  2010-01-01 00:02:00     1129      102   $80.00   \n",
       "3         7475331  2010-01-01 00:05:00      430     2860  $200.00   \n",
       "4         7475332  2010-01-01 00:06:00      848     3915   $46.41   \n",
       "\n",
       "            use_chip  merchant_id merchant_city merchant_state      zip   mcc  \\\n",
       "0  Swipe Transaction        59935        Beulah             ND  58523.0  5499   \n",
       "1  Swipe Transaction        67570    Bettendorf             IA  52722.0  5311   \n",
       "2  Swipe Transaction        27092         Vista             CA  92084.0  4829   \n",
       "3  Swipe Transaction        27092   Crown Point             IN  46307.0  4829   \n",
       "4  Swipe Transaction        13051       Harwood             MD  20776.0  5813   \n",
       "\n",
       "  errors  \n",
       "0    NaN  \n",
       "1    NaN  \n",
       "2    NaN  \n",
       "3    NaN  \n",
       "4    NaN  "
      ]
     },
     "execution_count": 9,
     "metadata": {},
     "output_type": "execute_result"
    }
   ],
   "source": [
    "raw_transaction_data.head()"
   ]
  },
  {
   "cell_type": "code",
   "execution_count": 10,
   "id": "a5c1b4e3-bf3b-4043-a23e-8d5611e20893",
   "metadata": {},
   "outputs": [],
   "source": [
    "raw_card_data = pd.read_csv(\"../../../../fraud_detection_transac/data/cards_data.csv\").sort_values(['id','client_id']).reset_index(drop=True)"
   ]
  },
  {
   "cell_type": "code",
   "execution_count": 11,
   "id": "2c45d3d4-71b3-4ae1-967c-5be5e0932841",
   "metadata": {},
   "outputs": [
    {
     "data": {
      "text/html": [
       "<div>\n",
       "<style scoped>\n",
       "    .dataframe tbody tr th:only-of-type {\n",
       "        vertical-align: middle;\n",
       "    }\n",
       "\n",
       "    .dataframe tbody tr th {\n",
       "        vertical-align: top;\n",
       "    }\n",
       "\n",
       "    .dataframe thead th {\n",
       "        text-align: right;\n",
       "    }\n",
       "</style>\n",
       "<table border=\"1\" class=\"dataframe\">\n",
       "  <thead>\n",
       "    <tr style=\"text-align: right;\">\n",
       "      <th></th>\n",
       "      <th>id</th>\n",
       "      <th>client_id</th>\n",
       "      <th>card_brand</th>\n",
       "      <th>card_type</th>\n",
       "      <th>card_number</th>\n",
       "      <th>expires</th>\n",
       "      <th>cvv</th>\n",
       "      <th>has_chip</th>\n",
       "      <th>num_cards_issued</th>\n",
       "      <th>credit_limit</th>\n",
       "      <th>acct_open_date</th>\n",
       "      <th>year_pin_last_changed</th>\n",
       "      <th>card_on_dark_web</th>\n",
       "    </tr>\n",
       "  </thead>\n",
       "  <tbody>\n",
       "    <tr>\n",
       "      <th>0</th>\n",
       "      <td>0</td>\n",
       "      <td>1362</td>\n",
       "      <td>Amex</td>\n",
       "      <td>Credit</td>\n",
       "      <td>393314135668401</td>\n",
       "      <td>04/2024</td>\n",
       "      <td>866</td>\n",
       "      <td>YES</td>\n",
       "      <td>2</td>\n",
       "      <td>$33900</td>\n",
       "      <td>01/1991</td>\n",
       "      <td>2014</td>\n",
       "      <td>No</td>\n",
       "    </tr>\n",
       "    <tr>\n",
       "      <th>1</th>\n",
       "      <td>1</td>\n",
       "      <td>550</td>\n",
       "      <td>Mastercard</td>\n",
       "      <td>Credit</td>\n",
       "      <td>5278231764792292</td>\n",
       "      <td>06/2024</td>\n",
       "      <td>396</td>\n",
       "      <td>YES</td>\n",
       "      <td>1</td>\n",
       "      <td>$11600</td>\n",
       "      <td>01/1994</td>\n",
       "      <td>2013</td>\n",
       "      <td>No</td>\n",
       "    </tr>\n",
       "    <tr>\n",
       "      <th>2</th>\n",
       "      <td>2</td>\n",
       "      <td>556</td>\n",
       "      <td>Mastercard</td>\n",
       "      <td>Debit</td>\n",
       "      <td>5889825928297675</td>\n",
       "      <td>09/2021</td>\n",
       "      <td>422</td>\n",
       "      <td>YES</td>\n",
       "      <td>1</td>\n",
       "      <td>$19948</td>\n",
       "      <td>01/1995</td>\n",
       "      <td>2011</td>\n",
       "      <td>No</td>\n",
       "    </tr>\n",
       "    <tr>\n",
       "      <th>3</th>\n",
       "      <td>3</td>\n",
       "      <td>1937</td>\n",
       "      <td>Visa</td>\n",
       "      <td>Credit</td>\n",
       "      <td>4289888672554714</td>\n",
       "      <td>04/2020</td>\n",
       "      <td>736</td>\n",
       "      <td>YES</td>\n",
       "      <td>2</td>\n",
       "      <td>$16400</td>\n",
       "      <td>01/1995</td>\n",
       "      <td>2015</td>\n",
       "      <td>No</td>\n",
       "    </tr>\n",
       "    <tr>\n",
       "      <th>4</th>\n",
       "      <td>4</td>\n",
       "      <td>1981</td>\n",
       "      <td>Mastercard</td>\n",
       "      <td>Debit</td>\n",
       "      <td>5433366978583845</td>\n",
       "      <td>03/2024</td>\n",
       "      <td>530</td>\n",
       "      <td>YES</td>\n",
       "      <td>2</td>\n",
       "      <td>$19439</td>\n",
       "      <td>01/1997</td>\n",
       "      <td>2007</td>\n",
       "      <td>No</td>\n",
       "    </tr>\n",
       "  </tbody>\n",
       "</table>\n",
       "</div>"
      ],
      "text/plain": [
       "   id  client_id  card_brand card_type       card_number  expires  cvv  \\\n",
       "0   0       1362        Amex    Credit   393314135668401  04/2024  866   \n",
       "1   1        550  Mastercard    Credit  5278231764792292  06/2024  396   \n",
       "2   2        556  Mastercard     Debit  5889825928297675  09/2021  422   \n",
       "3   3       1937        Visa    Credit  4289888672554714  04/2020  736   \n",
       "4   4       1981  Mastercard     Debit  5433366978583845  03/2024  530   \n",
       "\n",
       "  has_chip  num_cards_issued credit_limit acct_open_date  \\\n",
       "0      YES                 2       $33900        01/1991   \n",
       "1      YES                 1       $11600        01/1994   \n",
       "2      YES                 1       $19948        01/1995   \n",
       "3      YES                 2       $16400        01/1995   \n",
       "4      YES                 2       $19439        01/1997   \n",
       "\n",
       "   year_pin_last_changed card_on_dark_web  \n",
       "0                   2014               No  \n",
       "1                   2013               No  \n",
       "2                   2011               No  \n",
       "3                   2015               No  \n",
       "4                   2007               No  "
      ]
     },
     "execution_count": 11,
     "metadata": {},
     "output_type": "execute_result"
    }
   ],
   "source": [
    "raw_card_data.head()"
   ]
  },
  {
   "cell_type": "code",
   "execution_count": 12,
   "id": "8181122e-c5cd-4f8e-93ac-607b10da82e1",
   "metadata": {},
   "outputs": [],
   "source": [
    "raw_card_data = raw_card_data.rename(columns={'id':'card_id','client_id':'user_id'})"
   ]
  },
  {
   "cell_type": "code",
   "execution_count": 13,
   "id": "7e82d20c-63ad-4dc8-9cc3-624897d41f27",
   "metadata": {},
   "outputs": [],
   "source": [
    "labels = pd.read_json(\"../../../../fraud_detection_transac/data/train_fraud_labels.json\").reset_index()"
   ]
  },
  {
   "cell_type": "code",
   "execution_count": 14,
   "id": "8f072c1a-7b80-4072-91c0-44c47282880e",
   "metadata": {},
   "outputs": [],
   "source": [
    "labels = labels.rename(columns={'index':'transaction_id'})"
   ]
  },
  {
   "cell_type": "code",
   "execution_count": 15,
   "id": "fefa2a30-105b-42a8-a3c0-4fb12e687282",
   "metadata": {},
   "outputs": [
    {
     "data": {
      "text/plain": [
       "(8914963, 2)"
      ]
     },
     "execution_count": 15,
     "metadata": {},
     "output_type": "execute_result"
    }
   ],
   "source": [
    "labels.shape"
   ]
  },
  {
   "cell_type": "code",
   "execution_count": 16,
   "id": "85b56a6b-4cb7-41d7-aac9-7e5e7f0bcdbd",
   "metadata": {},
   "outputs": [],
   "source": [
    "mcc = pd.read_json(\"../../../../fraud_detection_transac/data/mcc_codes.json\",typ='series').reset_index()"
   ]
  },
  {
   "cell_type": "code",
   "execution_count": 17,
   "id": "65ec397c-da50-411a-90a6-58641e0c5d29",
   "metadata": {},
   "outputs": [],
   "source": [
    "mcc = mcc.rename(columns={'index':'mcc', 0:'merchant_type'})"
   ]
  },
  {
   "cell_type": "code",
   "execution_count": 18,
   "id": "302ba4b2-834a-49dd-8a64-011efe0bec08",
   "metadata": {},
   "outputs": [],
   "source": [
    "transactions = raw_transaction_data.merge(mcc,on='mcc', how='left').merge(labels,on='transaction_id',how='left')"
   ]
  },
  {
   "cell_type": "code",
   "execution_count": 19,
   "id": "190070e2-92d5-4f1c-9dbb-78c848ca4391",
   "metadata": {},
   "outputs": [],
   "source": [
    "transactions = transactions.sort_values(by=['mcc','user_id','transaction_id']).reset_index(drop=True)"
   ]
  },
  {
   "cell_type": "code",
   "execution_count": 20,
   "id": "2fa5248f-bd20-497d-8bdd-b29dad8cb2ea",
   "metadata": {},
   "outputs": [
    {
     "data": {
      "text/plain": [
       "(13305915, 14)"
      ]
     },
     "execution_count": 20,
     "metadata": {},
     "output_type": "execute_result"
    }
   ],
   "source": [
    "transactions.shape"
   ]
  },
  {
   "cell_type": "code",
   "execution_count": 21,
   "id": "788f1d80-35db-469a-a01e-595ce278a43d",
   "metadata": {},
   "outputs": [
    {
     "data": {
      "text/html": [
       "<div>\n",
       "<style scoped>\n",
       "    .dataframe tbody tr th:only-of-type {\n",
       "        vertical-align: middle;\n",
       "    }\n",
       "\n",
       "    .dataframe tbody tr th {\n",
       "        vertical-align: top;\n",
       "    }\n",
       "\n",
       "    .dataframe thead th {\n",
       "        text-align: right;\n",
       "    }\n",
       "</style>\n",
       "<table border=\"1\" class=\"dataframe\">\n",
       "  <thead>\n",
       "    <tr style=\"text-align: right;\">\n",
       "      <th></th>\n",
       "      <th>card_id</th>\n",
       "      <th>user_id</th>\n",
       "      <th>card_brand</th>\n",
       "      <th>card_type</th>\n",
       "      <th>card_number</th>\n",
       "      <th>expires</th>\n",
       "      <th>cvv</th>\n",
       "      <th>has_chip</th>\n",
       "      <th>num_cards_issued</th>\n",
       "      <th>credit_limit</th>\n",
       "      <th>acct_open_date</th>\n",
       "      <th>year_pin_last_changed</th>\n",
       "      <th>card_on_dark_web</th>\n",
       "    </tr>\n",
       "  </thead>\n",
       "  <tbody>\n",
       "    <tr>\n",
       "      <th>0</th>\n",
       "      <td>0</td>\n",
       "      <td>1362</td>\n",
       "      <td>Amex</td>\n",
       "      <td>Credit</td>\n",
       "      <td>393314135668401</td>\n",
       "      <td>04/2024</td>\n",
       "      <td>866</td>\n",
       "      <td>YES</td>\n",
       "      <td>2</td>\n",
       "      <td>$33900</td>\n",
       "      <td>01/1991</td>\n",
       "      <td>2014</td>\n",
       "      <td>No</td>\n",
       "    </tr>\n",
       "    <tr>\n",
       "      <th>1</th>\n",
       "      <td>1</td>\n",
       "      <td>550</td>\n",
       "      <td>Mastercard</td>\n",
       "      <td>Credit</td>\n",
       "      <td>5278231764792292</td>\n",
       "      <td>06/2024</td>\n",
       "      <td>396</td>\n",
       "      <td>YES</td>\n",
       "      <td>1</td>\n",
       "      <td>$11600</td>\n",
       "      <td>01/1994</td>\n",
       "      <td>2013</td>\n",
       "      <td>No</td>\n",
       "    </tr>\n",
       "    <tr>\n",
       "      <th>2</th>\n",
       "      <td>2</td>\n",
       "      <td>556</td>\n",
       "      <td>Mastercard</td>\n",
       "      <td>Debit</td>\n",
       "      <td>5889825928297675</td>\n",
       "      <td>09/2021</td>\n",
       "      <td>422</td>\n",
       "      <td>YES</td>\n",
       "      <td>1</td>\n",
       "      <td>$19948</td>\n",
       "      <td>01/1995</td>\n",
       "      <td>2011</td>\n",
       "      <td>No</td>\n",
       "    </tr>\n",
       "    <tr>\n",
       "      <th>3</th>\n",
       "      <td>3</td>\n",
       "      <td>1937</td>\n",
       "      <td>Visa</td>\n",
       "      <td>Credit</td>\n",
       "      <td>4289888672554714</td>\n",
       "      <td>04/2020</td>\n",
       "      <td>736</td>\n",
       "      <td>YES</td>\n",
       "      <td>2</td>\n",
       "      <td>$16400</td>\n",
       "      <td>01/1995</td>\n",
       "      <td>2015</td>\n",
       "      <td>No</td>\n",
       "    </tr>\n",
       "    <tr>\n",
       "      <th>4</th>\n",
       "      <td>4</td>\n",
       "      <td>1981</td>\n",
       "      <td>Mastercard</td>\n",
       "      <td>Debit</td>\n",
       "      <td>5433366978583845</td>\n",
       "      <td>03/2024</td>\n",
       "      <td>530</td>\n",
       "      <td>YES</td>\n",
       "      <td>2</td>\n",
       "      <td>$19439</td>\n",
       "      <td>01/1997</td>\n",
       "      <td>2007</td>\n",
       "      <td>No</td>\n",
       "    </tr>\n",
       "  </tbody>\n",
       "</table>\n",
       "</div>"
      ],
      "text/plain": [
       "   card_id  user_id  card_brand card_type       card_number  expires  cvv  \\\n",
       "0        0     1362        Amex    Credit   393314135668401  04/2024  866   \n",
       "1        1      550  Mastercard    Credit  5278231764792292  06/2024  396   \n",
       "2        2      556  Mastercard     Debit  5889825928297675  09/2021  422   \n",
       "3        3     1937        Visa    Credit  4289888672554714  04/2020  736   \n",
       "4        4     1981  Mastercard     Debit  5433366978583845  03/2024  530   \n",
       "\n",
       "  has_chip  num_cards_issued credit_limit acct_open_date  \\\n",
       "0      YES                 2       $33900        01/1991   \n",
       "1      YES                 1       $11600        01/1994   \n",
       "2      YES                 1       $19948        01/1995   \n",
       "3      YES                 2       $16400        01/1995   \n",
       "4      YES                 2       $19439        01/1997   \n",
       "\n",
       "   year_pin_last_changed card_on_dark_web  \n",
       "0                   2014               No  \n",
       "1                   2013               No  \n",
       "2                   2011               No  \n",
       "3                   2015               No  \n",
       "4                   2007               No  "
      ]
     },
     "execution_count": 21,
     "metadata": {},
     "output_type": "execute_result"
    }
   ],
   "source": [
    "raw_card_data.head()"
   ]
  },
  {
   "cell_type": "code",
   "execution_count": 22,
   "id": "1e82333b-fc4e-42be-806d-a9ae5457d8d3",
   "metadata": {},
   "outputs": [],
   "source": [
    "cards = raw_card_data.merge(raw_user_data, on=['user_id'], how='left')"
   ]
  },
  {
   "cell_type": "code",
   "execution_count": 23,
   "id": "8208a5d6-c5f6-4a84-8ce4-b7a8ffec13ce",
   "metadata": {},
   "outputs": [],
   "source": [
    "cards = cards.sort_values(by=['user_id','card_id']).reset_index(drop=True)"
   ]
  },
  {
   "cell_type": "code",
   "execution_count": 24,
   "id": "3c5bdf88-5e05-4c1d-96e1-ecd8578a9ad2",
   "metadata": {},
   "outputs": [
    {
     "data": {
      "text/plain": [
       "(6146, 26)"
      ]
     },
     "execution_count": 24,
     "metadata": {},
     "output_type": "execute_result"
    }
   ],
   "source": [
    "cards.shape"
   ]
  },
  {
   "cell_type": "code",
   "execution_count": 25,
   "id": "76aa66a5-94ea-4a6a-9823-723de5939fea",
   "metadata": {},
   "outputs": [],
   "source": [
    "transactions.to_csv(\"../../../data/intermediate/transactions.csv\", index=False)"
   ]
  },
  {
   "cell_type": "code",
   "execution_count": 26,
   "id": "9ae4b293-7244-4294-98a4-17ca52c2e96c",
   "metadata": {},
   "outputs": [],
   "source": [
    "cards.to_csv(\"../../../data/intermediate/cards.csv\", index=False)"
   ]
  },
  {
   "cell_type": "code",
   "execution_count": null,
   "id": "203eac5f-9e72-49de-93b6-0b0d5f4c6591",
   "metadata": {},
   "outputs": [],
   "source": []
  },
  {
   "cell_type": "code",
   "execution_count": null,
   "id": "fc793611-23c4-422a-bb5c-ada153eb47c0",
   "metadata": {},
   "outputs": [],
   "source": []
  },
  {
   "cell_type": "code",
   "execution_count": null,
   "id": "beacccf9-c3e3-411c-bcad-23817717414b",
   "metadata": {},
   "outputs": [],
   "source": []
  },
  {
   "cell_type": "code",
   "execution_count": null,
   "id": "aa81c087-c406-42ad-9b34-6d3ef4346726",
   "metadata": {},
   "outputs": [],
   "source": []
  }
 ],
 "metadata": {
  "kernelspec": {
   "display_name": "Python 3 (ipykernel)",
   "language": "python",
   "name": "python3"
  },
  "language_info": {
   "codemirror_mode": {
    "name": "ipython",
    "version": 3
   },
   "file_extension": ".py",
   "mimetype": "text/x-python",
   "name": "python",
   "nbconvert_exporter": "python",
   "pygments_lexer": "ipython3",
   "version": "3.13.5"
  }
 },
 "nbformat": 4,
 "nbformat_minor": 5
}
