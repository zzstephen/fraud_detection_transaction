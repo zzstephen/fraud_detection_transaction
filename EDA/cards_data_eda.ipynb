{
 "cells": [
  {
   "cell_type": "code",
   "execution_count": 1,
   "id": "9f0b85cf-dc63-4a72-82e4-94587d092025",
   "metadata": {},
   "outputs": [],
   "source": [
    "import warnings\n",
    "warnings.filterwarnings('ignore')\n",
    "import pandas as pd\n",
    "import numpy as np\n",
    "import sys\n",
    "sys.path.append('../../../../infrastructure/tools')\n",
    "from utilities import *\n",
    "from plotting import *\n",
    "import pickle\n",
    "from sklearn.mixture import GaussianMixture"
   ]
  },
  {
   "cell_type": "code",
   "execution_count": 2,
   "id": "e34aa65a-72f7-46dd-8c2b-991561607410",
   "metadata": {},
   "outputs": [],
   "source": [
    "from sklearn.cluster import KMeans\n",
    "from sklearn.preprocessing import MinMaxScaler"
   ]
  },
  {
   "cell_type": "code",
   "execution_count": 3,
   "id": "ffa44d72-a478-42b3-a834-fe83a11f39bf",
   "metadata": {},
   "outputs": [],
   "source": [
    "cards = pd.read_csv(\"../../../data/intermediate/cards.csv\")"
   ]
  },
  {
   "cell_type": "code",
   "execution_count": 4,
   "id": "0f40e353-384f-4373-9898-4a05bfb01e38",
   "metadata": {},
   "outputs": [
    {
     "data": {
      "text/plain": [
       "['card_id',\n",
       " 'user_id',\n",
       " 'card_brand',\n",
       " 'card_type',\n",
       " 'card_number',\n",
       " 'expires',\n",
       " 'cvv',\n",
       " 'has_chip',\n",
       " 'num_cards_issued',\n",
       " 'credit_limit',\n",
       " 'acct_open_date',\n",
       " 'year_pin_last_changed',\n",
       " 'card_on_dark_web',\n",
       " 'current_age',\n",
       " 'retirement_age',\n",
       " 'birth_year',\n",
       " 'birth_month',\n",
       " 'gender',\n",
       " 'address',\n",
       " 'latitude',\n",
       " 'longitude',\n",
       " 'per_capita_income',\n",
       " 'yearly_income',\n",
       " 'total_debt',\n",
       " 'credit_score',\n",
       " 'num_credit_cards']"
      ]
     },
     "execution_count": 4,
     "metadata": {},
     "output_type": "execute_result"
    }
   ],
   "source": [
    "cards.columns.tolist()"
   ]
  },
  {
   "cell_type": "code",
   "execution_count": 5,
   "id": "5b5b6c31-0782-4c9c-87c0-0172de95f132",
   "metadata": {},
   "outputs": [
    {
     "data": {
      "text/plain": [
       "(6146, 26)"
      ]
     },
     "execution_count": 5,
     "metadata": {},
     "output_type": "execute_result"
    }
   ],
   "source": [
    "cards.shape"
   ]
  },
  {
   "cell_type": "code",
   "execution_count": 6,
   "id": "625404eb-e676-4ca8-a89d-9b8ebf91dd9d",
   "metadata": {},
   "outputs": [],
   "source": [
    "for var in ['per_capita_income','yearly_income','total_debt','credit_limit']:\n",
    "    cards[var] = cards[var].apply(lambda x: float(x.replace(\"$\", \"\")))"
   ]
  },
  {
   "cell_type": "code",
   "execution_count": 9,
   "id": "05cd6906-64e6-458a-9c1e-ba0f2ba19d40",
   "metadata": {},
   "outputs": [],
   "source": [
    "cards['card_on_dark_web'] = cards['card_on_dark_web'].apply(lambda x: 1 if x.lower() == 'yes' else (0 if x.lower() == 'no' else x))"
   ]
  },
  {
   "cell_type": "code",
   "execution_count": 10,
   "id": "f15b21b0-58da-4395-8688-030f03d68cbf",
   "metadata": {},
   "outputs": [],
   "source": [
    "user_attr = [\n",
    "'user_id', \n",
    "'current_age',\n",
    "'retirement_age',\n",
    "'birth_year',\n",
    "'birth_month',\n",
    "'gender',\n",
    "'address',\n",
    "'latitude',\n",
    "'longitude',\n",
    "'per_capita_income',\n",
    "'yearly_income',\n",
    "'total_debt',\n",
    "'credit_score',\n",
    "'num_credit_cards']"
   ]
  },
  {
   "cell_type": "code",
   "execution_count": 11,
   "id": "2a9c223b-0fe6-4f50-8400-2decee53a5ba",
   "metadata": {},
   "outputs": [],
   "source": [
    "user_info = cards[user_attr].drop_duplicates().reset_index(drop=True)"
   ]
  },
  {
   "cell_type": "code",
   "execution_count": 12,
   "id": "63988005-070e-45f0-831e-2112ac8326e8",
   "metadata": {},
   "outputs": [],
   "source": [
    "# cards.card_on_dark_web = cards.card_on_dark_web.astype('int')"
   ]
  },
  {
   "cell_type": "code",
   "execution_count": 13,
   "id": "6ccb5a5c-ba57-4eca-b8b6-9d56dcaa46d2",
   "metadata": {},
   "outputs": [],
   "source": [
    "user_info_agg = utilities.pivot(cards, varlist = {'credit_limit':'sum','card_on_dark_web':'sum'}, by_vars = ['user_id'])"
   ]
  },
  {
   "cell_type": "code",
   "execution_count": 14,
   "id": "313e6754-eda3-4d33-99fb-aef275f11bab",
   "metadata": {},
   "outputs": [],
   "source": [
    "user_info = user_info.merge(user_info_agg, on='user_id')"
   ]
  },
  {
   "cell_type": "code",
   "execution_count": 13,
   "id": "520b5a79-f812-417d-bce3-197e97820e75",
   "metadata": {},
   "outputs": [
    {
     "data": {
      "text/html": [
       "<div>\n",
       "<style scoped>\n",
       "    .dataframe tbody tr th:only-of-type {\n",
       "        vertical-align: middle;\n",
       "    }\n",
       "\n",
       "    .dataframe tbody tr th {\n",
       "        vertical-align: top;\n",
       "    }\n",
       "\n",
       "    .dataframe thead th {\n",
       "        text-align: right;\n",
       "    }\n",
       "</style>\n",
       "<table border=\"1\" class=\"dataframe\">\n",
       "  <thead>\n",
       "    <tr style=\"text-align: right;\">\n",
       "      <th></th>\n",
       "      <th>user_id</th>\n",
       "      <th>current_age</th>\n",
       "      <th>retirement_age</th>\n",
       "      <th>birth_year</th>\n",
       "      <th>birth_month</th>\n",
       "      <th>gender</th>\n",
       "      <th>address</th>\n",
       "      <th>latitude</th>\n",
       "      <th>longitude</th>\n",
       "      <th>per_capita_income</th>\n",
       "      <th>yearly_income</th>\n",
       "      <th>total_debt</th>\n",
       "      <th>credit_score</th>\n",
       "      <th>num_credit_cards</th>\n",
       "      <th>count</th>\n",
       "      <th>sum_credit_limit</th>\n",
       "      <th>sum_card_on_dark_web</th>\n",
       "    </tr>\n",
       "  </thead>\n",
       "  <tbody>\n",
       "    <tr>\n",
       "      <th>0</th>\n",
       "      <td>0</td>\n",
       "      <td>33</td>\n",
       "      <td>69</td>\n",
       "      <td>1986</td>\n",
       "      <td>3</td>\n",
       "      <td>Male</td>\n",
       "      <td>858 Plum Avenue</td>\n",
       "      <td>43.59</td>\n",
       "      <td>-70.33</td>\n",
       "      <td>29237.0</td>\n",
       "      <td>59613.0</td>\n",
       "      <td>36199.0</td>\n",
       "      <td>763</td>\n",
       "      <td>4</td>\n",
       "      <td>4</td>\n",
       "      <td>105656.0</td>\n",
       "      <td>0</td>\n",
       "    </tr>\n",
       "    <tr>\n",
       "      <th>1</th>\n",
       "      <td>1</td>\n",
       "      <td>43</td>\n",
       "      <td>74</td>\n",
       "      <td>1976</td>\n",
       "      <td>4</td>\n",
       "      <td>Female</td>\n",
       "      <td>113 Burns Lane</td>\n",
       "      <td>30.44</td>\n",
       "      <td>-87.18</td>\n",
       "      <td>22247.0</td>\n",
       "      <td>45360.0</td>\n",
       "      <td>14587.0</td>\n",
       "      <td>704</td>\n",
       "      <td>3</td>\n",
       "      <td>3</td>\n",
       "      <td>41805.0</td>\n",
       "      <td>0</td>\n",
       "    </tr>\n",
       "    <tr>\n",
       "      <th>2</th>\n",
       "      <td>2</td>\n",
       "      <td>48</td>\n",
       "      <td>64</td>\n",
       "      <td>1971</td>\n",
       "      <td>8</td>\n",
       "      <td>Male</td>\n",
       "      <td>6035 Forest Avenue</td>\n",
       "      <td>40.84</td>\n",
       "      <td>-73.87</td>\n",
       "      <td>13461.0</td>\n",
       "      <td>27447.0</td>\n",
       "      <td>80850.0</td>\n",
       "      <td>673</td>\n",
       "      <td>5</td>\n",
       "      <td>5</td>\n",
       "      <td>50361.0</td>\n",
       "      <td>0</td>\n",
       "    </tr>\n",
       "    <tr>\n",
       "      <th>3</th>\n",
       "      <td>3</td>\n",
       "      <td>49</td>\n",
       "      <td>65</td>\n",
       "      <td>1970</td>\n",
       "      <td>12</td>\n",
       "      <td>Male</td>\n",
       "      <td>840 Elm Avenue</td>\n",
       "      <td>33.89</td>\n",
       "      <td>-98.51</td>\n",
       "      <td>13705.0</td>\n",
       "      <td>27943.0</td>\n",
       "      <td>18693.0</td>\n",
       "      <td>681</td>\n",
       "      <td>4</td>\n",
       "      <td>4</td>\n",
       "      <td>13722.0</td>\n",
       "      <td>0</td>\n",
       "    </tr>\n",
       "    <tr>\n",
       "      <th>4</th>\n",
       "      <td>4</td>\n",
       "      <td>54</td>\n",
       "      <td>72</td>\n",
       "      <td>1965</td>\n",
       "      <td>3</td>\n",
       "      <td>Female</td>\n",
       "      <td>6016 Little Creek Boulevard</td>\n",
       "      <td>47.61</td>\n",
       "      <td>-122.30</td>\n",
       "      <td>37485.0</td>\n",
       "      <td>76431.0</td>\n",
       "      <td>115362.0</td>\n",
       "      <td>716</td>\n",
       "      <td>5</td>\n",
       "      <td>5</td>\n",
       "      <td>136202.0</td>\n",
       "      <td>0</td>\n",
       "    </tr>\n",
       "    <tr>\n",
       "      <th>...</th>\n",
       "      <td>...</td>\n",
       "      <td>...</td>\n",
       "      <td>...</td>\n",
       "      <td>...</td>\n",
       "      <td>...</td>\n",
       "      <td>...</td>\n",
       "      <td>...</td>\n",
       "      <td>...</td>\n",
       "      <td>...</td>\n",
       "      <td>...</td>\n",
       "      <td>...</td>\n",
       "      <td>...</td>\n",
       "      <td>...</td>\n",
       "      <td>...</td>\n",
       "      <td>...</td>\n",
       "      <td>...</td>\n",
       "      <td>...</td>\n",
       "    </tr>\n",
       "    <tr>\n",
       "      <th>1995</th>\n",
       "      <td>1995</td>\n",
       "      <td>64</td>\n",
       "      <td>62</td>\n",
       "      <td>1955</td>\n",
       "      <td>7</td>\n",
       "      <td>Female</td>\n",
       "      <td>28 First Lane</td>\n",
       "      <td>39.92</td>\n",
       "      <td>-77.71</td>\n",
       "      <td>20943.0</td>\n",
       "      <td>39206.0</td>\n",
       "      <td>9219.0</td>\n",
       "      <td>605</td>\n",
       "      <td>4</td>\n",
       "      <td>4</td>\n",
       "      <td>30965.0</td>\n",
       "      <td>0</td>\n",
       "    </tr>\n",
       "    <tr>\n",
       "      <th>1996</th>\n",
       "      <td>1996</td>\n",
       "      <td>46</td>\n",
       "      <td>66</td>\n",
       "      <td>1973</td>\n",
       "      <td>6</td>\n",
       "      <td>Female</td>\n",
       "      <td>7853 Grant Street</td>\n",
       "      <td>29.43</td>\n",
       "      <td>-95.24</td>\n",
       "      <td>21956.0</td>\n",
       "      <td>44768.0</td>\n",
       "      <td>59862.0</td>\n",
       "      <td>728</td>\n",
       "      <td>3</td>\n",
       "      <td>3</td>\n",
       "      <td>47175.0</td>\n",
       "      <td>0</td>\n",
       "    </tr>\n",
       "    <tr>\n",
       "      <th>1997</th>\n",
       "      <td>1997</td>\n",
       "      <td>76</td>\n",
       "      <td>69</td>\n",
       "      <td>1943</td>\n",
       "      <td>8</td>\n",
       "      <td>Male</td>\n",
       "      <td>765 Forest Street</td>\n",
       "      <td>44.92</td>\n",
       "      <td>-93.40</td>\n",
       "      <td>39155.0</td>\n",
       "      <td>38800.0</td>\n",
       "      <td>25867.0</td>\n",
       "      <td>758</td>\n",
       "      <td>7</td>\n",
       "      <td>7</td>\n",
       "      <td>142669.0</td>\n",
       "      <td>0</td>\n",
       "    </tr>\n",
       "    <tr>\n",
       "      <th>1998</th>\n",
       "      <td>1998</td>\n",
       "      <td>65</td>\n",
       "      <td>67</td>\n",
       "      <td>1954</td>\n",
       "      <td>9</td>\n",
       "      <td>Male</td>\n",
       "      <td>10 Third Avenue</td>\n",
       "      <td>37.56</td>\n",
       "      <td>-122.37</td>\n",
       "      <td>0.0</td>\n",
       "      <td>645.0</td>\n",
       "      <td>790.0</td>\n",
       "      <td>688</td>\n",
       "      <td>3</td>\n",
       "      <td>3</td>\n",
       "      <td>538.0</td>\n",
       "      <td>0</td>\n",
       "    </tr>\n",
       "    <tr>\n",
       "      <th>1999</th>\n",
       "      <td>1999</td>\n",
       "      <td>19</td>\n",
       "      <td>69</td>\n",
       "      <td>2000</td>\n",
       "      <td>12</td>\n",
       "      <td>Male</td>\n",
       "      <td>1749 Spruce Street</td>\n",
       "      <td>31.06</td>\n",
       "      <td>-98.18</td>\n",
       "      <td>16744.0</td>\n",
       "      <td>34134.0</td>\n",
       "      <td>0.0</td>\n",
       "      <td>683</td>\n",
       "      <td>2</td>\n",
       "      <td>2</td>\n",
       "      <td>21995.0</td>\n",
       "      <td>0</td>\n",
       "    </tr>\n",
       "  </tbody>\n",
       "</table>\n",
       "<p>2000 rows × 17 columns</p>\n",
       "</div>"
      ],
      "text/plain": [
       "      user_id  current_age  retirement_age  birth_year  birth_month  gender  \\\n",
       "0           0           33              69        1986            3    Male   \n",
       "1           1           43              74        1976            4  Female   \n",
       "2           2           48              64        1971            8    Male   \n",
       "3           3           49              65        1970           12    Male   \n",
       "4           4           54              72        1965            3  Female   \n",
       "...       ...          ...             ...         ...          ...     ...   \n",
       "1995     1995           64              62        1955            7  Female   \n",
       "1996     1996           46              66        1973            6  Female   \n",
       "1997     1997           76              69        1943            8    Male   \n",
       "1998     1998           65              67        1954            9    Male   \n",
       "1999     1999           19              69        2000           12    Male   \n",
       "\n",
       "                          address  latitude  longitude  per_capita_income  \\\n",
       "0                 858 Plum Avenue     43.59     -70.33            29237.0   \n",
       "1                  113 Burns Lane     30.44     -87.18            22247.0   \n",
       "2              6035 Forest Avenue     40.84     -73.87            13461.0   \n",
       "3                  840 Elm Avenue     33.89     -98.51            13705.0   \n",
       "4     6016 Little Creek Boulevard     47.61    -122.30            37485.0   \n",
       "...                           ...       ...        ...                ...   \n",
       "1995                28 First Lane     39.92     -77.71            20943.0   \n",
       "1996            7853 Grant Street     29.43     -95.24            21956.0   \n",
       "1997            765 Forest Street     44.92     -93.40            39155.0   \n",
       "1998              10 Third Avenue     37.56    -122.37                0.0   \n",
       "1999           1749 Spruce Street     31.06     -98.18            16744.0   \n",
       "\n",
       "      yearly_income  total_debt  credit_score  num_credit_cards  count  \\\n",
       "0           59613.0     36199.0           763                 4      4   \n",
       "1           45360.0     14587.0           704                 3      3   \n",
       "2           27447.0     80850.0           673                 5      5   \n",
       "3           27943.0     18693.0           681                 4      4   \n",
       "4           76431.0    115362.0           716                 5      5   \n",
       "...             ...         ...           ...               ...    ...   \n",
       "1995        39206.0      9219.0           605                 4      4   \n",
       "1996        44768.0     59862.0           728                 3      3   \n",
       "1997        38800.0     25867.0           758                 7      7   \n",
       "1998          645.0       790.0           688                 3      3   \n",
       "1999        34134.0         0.0           683                 2      2   \n",
       "\n",
       "      sum_credit_limit  sum_card_on_dark_web  \n",
       "0             105656.0                     0  \n",
       "1              41805.0                     0  \n",
       "2              50361.0                     0  \n",
       "3              13722.0                     0  \n",
       "4             136202.0                     0  \n",
       "...                ...                   ...  \n",
       "1995           30965.0                     0  \n",
       "1996           47175.0                     0  \n",
       "1997          142669.0                     0  \n",
       "1998             538.0                     0  \n",
       "1999           21995.0                     0  \n",
       "\n",
       "[2000 rows x 17 columns]"
      ]
     },
     "execution_count": 13,
     "metadata": {},
     "output_type": "execute_result"
    }
   ],
   "source": [
    "user_info"
   ]
  },
  {
   "cell_type": "code",
   "execution_count": 14,
   "id": "7ae8a4e2-3778-4e60-9087-3715f5949e74",
   "metadata": {},
   "outputs": [],
   "source": [
    "user_info['dti'] = user_info.total_debt/user_info.yearly_income"
   ]
  },
  {
   "cell_type": "code",
   "execution_count": 15,
   "id": "c3e28639-e428-4955-a656-a1888d53e0dc",
   "metadata": {},
   "outputs": [],
   "source": [
    "user_info['income_to_median'] = np.minimum(user_info.yearly_income/user_info.per_capita_income, 10)"
   ]
  },
  {
   "cell_type": "code",
   "execution_count": 16,
   "id": "aa3e7705-5846-4340-9c20-d0fb683d43aa",
   "metadata": {},
   "outputs": [
    {
     "data": {
      "text/plain": [
       "<Axes: >"
      ]
     },
     "execution_count": 16,
     "metadata": {},
     "output_type": "execute_result"
    },
    {
     "data": {
      "image/png": "[encoded data removed]",
      "text/plain": [
       "<Figure size 640x480 with 1 Axes>"
      ]
     },
     "metadata": {},
     "output_type": "display_data"
    }
   ],
   "source": [
    "user_info['income_to_median'].hist()"
   ]
  },
  {
   "cell_type": "code",
   "execution_count": 36,
   "id": "5c60a770-f6fe-49f2-9829-e483a3d74dcd",
   "metadata": {},
   "outputs": [
    {
     "data": {
      "text/plain": [
       "<Axes: >"
      ]
     },
     "execution_count": 36,
     "metadata": {},
     "output_type": "execute_result"
    },
    {
     "data": {
      "image/png": "[encoded data removed]",
      "text/plain": [
       "<Figure size 640x480 with 1 Axes>"
      ]
     },
     "metadata": {},
     "output_type": "display_data"
    }
   ],
   "source": [
    "user_info['dti'].hist(bins=50)"
   ]
  },
  {
   "cell_type": "code",
   "execution_count": 18,
   "id": "df894e39-694f-4643-8feb-8f04d1e4d0f9",
   "metadata": {},
   "outputs": [
    {
     "data": {
      "text/html": [
       "<iframe\n",
       "    scrolling=\"no\"\n",
       "    width=\"1020px\"\n",
       "    height=\"820\"\n",
       "    src=\"iframe_figures/figure_18.html\"\n",
       "    frameborder=\"0\"\n",
       "    allowfullscreen\n",
       "></iframe>\n"
      ]
     },
     "metadata": {},
     "output_type": "display_data"
    }
   ],
   "source": [
    "plotting.px_scatter_plot(user_info, x_var='latitude', y_var='longitude', show=False, width=1000, height=800)"
   ]
  },
  {
   "cell_type": "code",
   "execution_count": 19,
   "id": "3786a340-e477-4f60-987f-91b199d2d48f",
   "metadata": {},
   "outputs": [
    {
     "data": {
      "text/plain": [
       "<Axes: >"
      ]
     },
     "execution_count": 19,
     "metadata": {},
     "output_type": "execute_result"
    },
    {
     "data": {
      "image/png": "[encoded data removed]",
      "text/plain": [
       "<Figure size 640x480 with 1 Axes>"
      ]
     },
     "metadata": {},
     "output_type": "display_data"
    }
   ],
   "source": [
    "user_info.current_age.hist()"
   ]
  },
  {
   "cell_type": "code",
   "execution_count": 38,
   "id": "43df3e72-a9ff-47f6-8885-115eaf727edb",
   "metadata": {},
   "outputs": [
    {
     "data": {
      "text/plain": [
       "<Axes: >"
      ]
     },
     "execution_count": 38,
     "metadata": {},
     "output_type": "execute_result"
    },
    {
     "data": {
      "image/png": "[encoded data removed]",
      "text/plain": [
       "<Figure size 640x480 with 1 Axes>"
      ]
     },
     "metadata": {},
     "output_type": "display_data"
    }
   ],
   "source": [
    "user_info.credit_score.hist(bins=40)"
   ]
  },
  {
   "cell_type": "code",
   "execution_count": 21,
   "id": "59ae6a12-4232-4cc0-b6f2-df80fc97b6f1",
   "metadata": {},
   "outputs": [],
   "source": [
    "cluster_vars = ['latitude', 'longitude']"
   ]
  },
  {
   "cell_type": "code",
   "execution_count": 22,
   "id": "ddfc05fd-d563-4e62-96ac-72254aecd51a",
   "metadata": {},
   "outputs": [],
   "source": [
    "# cluster_vars = ['credit_score','latitude', 'longitude','dti','current_age']"
   ]
  },
  {
   "cell_type": "code",
   "execution_count": 23,
   "id": "d714f687-7a1d-4ac2-aa0b-c7d78cb72552",
   "metadata": {},
   "outputs": [],
   "source": [
    "# scaler = MinMaxScaler(feature_range=(0, 1)) \n",
    "# scaled_data = scaler.fit_transform(user_info[cluster_vars])"
   ]
  },
  {
   "cell_type": "code",
   "execution_count": 26,
   "id": "e9b300b8-ffb3-4516-9915-33d3eb0fcaff",
   "metadata": {},
   "outputs": [],
   "source": [
    "inertia = []\n",
    "models = []\n",
    "max_cluster = 30\n",
    "for i in range(2,max_cluster):\n",
    "    kmeans = KMeans(init=\"k-means++\",n_clusters=i, random_state=0).fit(user_info[cluster_vars])\n",
    "    inertia.append(kmeans.inertia_)\n",
    "    models.append(kmeans)"
   ]
  },
  {
   "cell_type": "code",
   "execution_count": 27,
   "id": "ea26746a-729b-4021-bc4f-e6d8e2e8fea6",
   "metadata": {},
   "outputs": [
    {
     "data": {
      "text/plain": [
       "Text(0, 0.5, 'inertia')"
      ]
     },
     "execution_count": 27,
     "metadata": {},
     "output_type": "execute_result"
    },
    {
     "data": {
      "image/png": "[encoded data removed]",
      "text/plain": [
       "<Figure size 640x480 with 1 Axes>"
      ]
     },
     "metadata": {},
     "output_type": "display_data"
    }
   ],
   "source": [
    "plt.plot(range(2,max_cluster),inertia, marker='o')\n",
    "plt.xlabel('# of clusters')\n",
    "plt.ylabel('inertia')"
   ]
  },
  {
   "cell_type": "code",
   "execution_count": 28,
   "id": "4e0784ef-dab0-445d-93df-b0c5a1c293e7",
   "metadata": {},
   "outputs": [],
   "source": [
    "kmeans = KMeans(init=\"k-means++\",n_clusters=7, random_state=0).fit(user_info[cluster_vars])"
   ]
  },
  {
   "cell_type": "code",
   "execution_count": 35,
   "id": "6ec81c82-693d-4daa-904b-b42a8146e11d",
   "metadata": {},
   "outputs": [],
   "source": [
    "filename = '../../../model_objects/geo_encoding.pkl'\n",
    "with open(filename, 'wb') as file:\n",
    "    pickle.dump(kmeans, file)"
   ]
  },
  {
   "cell_type": "code",
   "execution_count": null,
   "id": "11a18127-615b-4558-b446-7928a81bfff7",
   "metadata": {},
   "outputs": [],
   "source": []
  },
  {
   "cell_type": "code",
   "execution_count": null,
   "id": "d7394f2d-56f4-4e86-83d4-600ed7b26391",
   "metadata": {},
   "outputs": [],
   "source": []
  }
 ],
 "metadata": {
  "kernelspec": {
   "display_name": "Python 3 (ipykernel)",
   "language": "python",
   "name": "python3"
  },
  "language_info": {
   "codemirror_mode": {
    "name": "ipython",
    "version": 3
   },
   "file_extension": ".py",
   "mimetype": "text/x-python",
   "name": "python",
   "nbconvert_exporter": "python",
   "pygments_lexer": "ipython3",
   "version": "3.13.5"
  }
 },
 "nbformat": 4,
 "nbformat_minor": 5
}
