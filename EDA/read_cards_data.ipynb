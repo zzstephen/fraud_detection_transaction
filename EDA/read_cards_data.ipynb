{
 "cells": [
  {
   "cell_type": "code",
   "execution_count": 1,
   "id": "7fdf5d6d-a276-4c19-8958-fbd995703fd3",
   "metadata": {},
   "outputs": [],
   "source": [
    "import warnings\n",
    "warnings.filterwarnings('ignore')\n",
    "import pandas as pd\n",
    "import numpy as np\n",
    "import sys\n",
    "sys.path.append('../../../infrastructure/tools')\n",
    "from utilities import *\n",
    "from plotting import *"
   ]
  },
  {
   "cell_type": "code",
   "execution_count": 19,
   "id": "04a45508-1fac-4af2-92c7-a0a26f87a911",
   "metadata": {},
   "outputs": [],
   "source": [
    "raw_data = pd.read_csv(\"../../../fraud_detection_transac/data/cards_data.csv\").sort_values(['id','client_id']).reset_index(drop=True)"
   ]
  },
  {
   "cell_type": "code",
   "execution_count": 20,
   "id": "36b61586-a954-4cb3-b842-df6f7897d4da",
   "metadata": {},
   "outputs": [
    {
     "data": {
      "text/plain": [
       "(6146, 13)"
      ]
     },
     "execution_count": 20,
     "metadata": {},
     "output_type": "execute_result"
    }
   ],
   "source": [
    "raw_data.shape"
   ]
  },
  {
   "cell_type": "code",
   "execution_count": 21,
   "id": "f80f1e79-3bad-489c-a747-9e3ab206f8bb",
   "metadata": {},
   "outputs": [
    {
     "data": {
      "text/plain": [
       "['id',\n",
       " 'client_id',\n",
       " 'card_brand',\n",
       " 'card_type',\n",
       " 'card_number',\n",
       " 'expires',\n",
       " 'cvv',\n",
       " 'has_chip',\n",
       " 'num_cards_issued',\n",
       " 'credit_limit',\n",
       " 'acct_open_date',\n",
       " 'year_pin_last_changed',\n",
       " 'card_on_dark_web']"
      ]
     },
     "execution_count": 21,
     "metadata": {},
     "output_type": "execute_result"
    }
   ],
   "source": [
    "raw_data.columns.tolist()"
   ]
  },
  {
   "cell_type": "code",
   "execution_count": 22,
   "id": "5d186e90-b82c-4e1b-959f-46af01fa1a0f",
   "metadata": {},
   "outputs": [
    {
     "data": {
      "text/html": [
       "<div>\n",
       "<style scoped>\n",
       "    .dataframe tbody tr th:only-of-type {\n",
       "        vertical-align: middle;\n",
       "    }\n",
       "\n",
       "    .dataframe tbody tr th {\n",
       "        vertical-align: top;\n",
       "    }\n",
       "\n",
       "    .dataframe thead th {\n",
       "        text-align: right;\n",
       "    }\n",
       "</style>\n",
       "<table border=\"1\" class=\"dataframe\">\n",
       "  <thead>\n",
       "    <tr style=\"text-align: right;\">\n",
       "      <th></th>\n",
       "      <th>id</th>\n",
       "      <th>client_id</th>\n",
       "      <th>card_brand</th>\n",
       "      <th>card_type</th>\n",
       "      <th>card_number</th>\n",
       "      <th>expires</th>\n",
       "      <th>cvv</th>\n",
       "      <th>has_chip</th>\n",
       "      <th>num_cards_issued</th>\n",
       "      <th>credit_limit</th>\n",
       "      <th>acct_open_date</th>\n",
       "      <th>year_pin_last_changed</th>\n",
       "      <th>card_on_dark_web</th>\n",
       "    </tr>\n",
       "  </thead>\n",
       "  <tbody>\n",
       "    <tr>\n",
       "      <th>0</th>\n",
       "      <td>0</td>\n",
       "      <td>1362</td>\n",
       "      <td>Amex</td>\n",
       "      <td>Credit</td>\n",
       "      <td>393314135668401</td>\n",
       "      <td>04/2024</td>\n",
       "      <td>866</td>\n",
       "      <td>YES</td>\n",
       "      <td>2</td>\n",
       "      <td>$33900</td>\n",
       "      <td>01/1991</td>\n",
       "      <td>2014</td>\n",
       "      <td>No</td>\n",
       "    </tr>\n",
       "    <tr>\n",
       "      <th>1</th>\n",
       "      <td>1</td>\n",
       "      <td>550</td>\n",
       "      <td>Mastercard</td>\n",
       "      <td>Credit</td>\n",
       "      <td>5278231764792292</td>\n",
       "      <td>06/2024</td>\n",
       "      <td>396</td>\n",
       "      <td>YES</td>\n",
       "      <td>1</td>\n",
       "      <td>$11600</td>\n",
       "      <td>01/1994</td>\n",
       "      <td>2013</td>\n",
       "      <td>No</td>\n",
       "    </tr>\n",
       "    <tr>\n",
       "      <th>2</th>\n",
       "      <td>2</td>\n",
       "      <td>556</td>\n",
       "      <td>Mastercard</td>\n",
       "      <td>Debit</td>\n",
       "      <td>5889825928297675</td>\n",
       "      <td>09/2021</td>\n",
       "      <td>422</td>\n",
       "      <td>YES</td>\n",
       "      <td>1</td>\n",
       "      <td>$19948</td>\n",
       "      <td>01/1995</td>\n",
       "      <td>2011</td>\n",
       "      <td>No</td>\n",
       "    </tr>\n",
       "    <tr>\n",
       "      <th>3</th>\n",
       "      <td>3</td>\n",
       "      <td>1937</td>\n",
       "      <td>Visa</td>\n",
       "      <td>Credit</td>\n",
       "      <td>4289888672554714</td>\n",
       "      <td>04/2020</td>\n",
       "      <td>736</td>\n",
       "      <td>YES</td>\n",
       "      <td>2</td>\n",
       "      <td>$16400</td>\n",
       "      <td>01/1995</td>\n",
       "      <td>2015</td>\n",
       "      <td>No</td>\n",
       "    </tr>\n",
       "    <tr>\n",
       "      <th>4</th>\n",
       "      <td>4</td>\n",
       "      <td>1981</td>\n",
       "      <td>Mastercard</td>\n",
       "      <td>Debit</td>\n",
       "      <td>5433366978583845</td>\n",
       "      <td>03/2024</td>\n",
       "      <td>530</td>\n",
       "      <td>YES</td>\n",
       "      <td>2</td>\n",
       "      <td>$19439</td>\n",
       "      <td>01/1997</td>\n",
       "      <td>2007</td>\n",
       "      <td>No</td>\n",
       "    </tr>\n",
       "  </tbody>\n",
       "</table>\n",
       "</div>"
      ],
      "text/plain": [
       "   id  client_id  card_brand card_type       card_number  expires  cvv  \\\n",
       "0   0       1362        Amex    Credit   393314135668401  04/2024  866   \n",
       "1   1        550  Mastercard    Credit  5278231764792292  06/2024  396   \n",
       "2   2        556  Mastercard     Debit  5889825928297675  09/2021  422   \n",
       "3   3       1937        Visa    Credit  4289888672554714  04/2020  736   \n",
       "4   4       1981  Mastercard     Debit  5433366978583845  03/2024  530   \n",
       "\n",
       "  has_chip  num_cards_issued credit_limit acct_open_date  \\\n",
       "0      YES                 2       $33900        01/1991   \n",
       "1      YES                 1       $11600        01/1994   \n",
       "2      YES                 1       $19948        01/1995   \n",
       "3      YES                 2       $16400        01/1995   \n",
       "4      YES                 2       $19439        01/1997   \n",
       "\n",
       "   year_pin_last_changed card_on_dark_web  \n",
       "0                   2014               No  \n",
       "1                   2013               No  \n",
       "2                   2011               No  \n",
       "3                   2015               No  \n",
       "4                   2007               No  "
      ]
     },
     "execution_count": 22,
     "metadata": {},
     "output_type": "execute_result"
    }
   ],
   "source": [
    "raw_data.head()"
   ]
  },
  {
   "cell_type": "code",
   "execution_count": 23,
   "id": "b3f71d17-df47-4d69-85d9-16c04ab98498",
   "metadata": {},
   "outputs": [
    {
     "data": {
      "text/plain": [
       "6145"
      ]
     },
     "execution_count": 23,
     "metadata": {},
     "output_type": "execute_result"
    }
   ],
   "source": [
    "raw_data.id.max()"
   ]
  },
  {
   "cell_type": "code",
   "execution_count": 24,
   "id": "bb145630-b364-4504-84a3-79bffd83182a",
   "metadata": {},
   "outputs": [
    {
     "data": {
      "text/plain": [
       "1999"
      ]
     },
     "execution_count": 24,
     "metadata": {},
     "output_type": "execute_result"
    }
   ],
   "source": [
    "raw_data.client_id.max()"
   ]
  },
  {
   "cell_type": "code",
   "execution_count": null,
   "id": "f1a380c9-89a6-4ca6-9503-3a41b25d08dc",
   "metadata": {},
   "outputs": [],
   "source": []
  },
  {
   "cell_type": "code",
   "execution_count": null,
   "id": "2c61f9e9-45df-4a8f-9eaf-3a9c1b997e78",
   "metadata": {},
   "outputs": [],
   "source": []
  },
  {
   "cell_type": "code",
   "execution_count": null,
   "id": "a08d86e6-53ea-4851-8300-a9cb15369f38",
   "metadata": {},
   "outputs": [],
   "source": []
  },
  {
   "cell_type": "code",
   "execution_count": null,
   "id": "b156b1b5-d8f0-4460-b75e-6b30a038e9b9",
   "metadata": {},
   "outputs": [],
   "source": []
  },
  {
   "cell_type": "code",
   "execution_count": null,
   "id": "343d057c-9d10-4da5-ab31-6564fd04fd36",
   "metadata": {},
   "outputs": [],
   "source": []
  },
  {
   "cell_type": "code",
   "execution_count": null,
   "id": "5387004f-4325-4ec4-8938-d9062a9f5170",
   "metadata": {},
   "outputs": [],
   "source": []
  },
  {
   "cell_type": "code",
   "execution_count": null,
   "id": "3dce0d98-ed2b-4e7e-896e-34d326564766",
   "metadata": {},
   "outputs": [],
   "source": []
  },
  {
   "cell_type": "code",
   "execution_count": null,
   "id": "935b7f69-e234-4d63-9e5e-c36fd9fcacce",
   "metadata": {},
   "outputs": [],
   "source": []
  }
 ],
 "metadata": {
  "kernelspec": {
   "display_name": "Python 3 (ipykernel)",
   "language": "python",
   "name": "python3"
  },
  "language_info": {
   "codemirror_mode": {
    "name": "ipython",
    "version": 3
   },
   "file_extension": ".py",
   "mimetype": "text/x-python",
   "name": "python",
   "nbconvert_exporter": "python",
   "pygments_lexer": "ipython3",
   "version": "3.13.5"
  }
 },
 "nbformat": 4,
 "nbformat_minor": 5
}
