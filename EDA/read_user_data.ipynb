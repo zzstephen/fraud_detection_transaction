{
 "cells": [
  {
   "cell_type": "code",
   "execution_count": 2,
   "id": "b9d8e334-f0d9-474c-9b2b-22f6f33dc8c5",
   "metadata": {},
   "outputs": [],
   "source": [
    "import warnings\n",
    "warnings.filterwarnings('ignore')\n",
    "import pandas as pd\n",
    "import numpy as np\n",
    "import sys\n",
    "sys.path.append('../../../infrastructure/tools')\n",
    "from utilities import *\n",
    "from plotting import *"
   ]
  },
  {
   "cell_type": "code",
   "execution_count": 10,
   "id": "eeb926a5-be7b-4d1c-8cf7-e70e52536c68",
   "metadata": {},
   "outputs": [],
   "source": [
    "raw_data = pd.read_csv(\"../../../fraud_detection_transac/data/users_data.csv\").sort_values('id').reset_index(drop=True)"
   ]
  },
  {
   "cell_type": "code",
   "execution_count": 11,
   "id": "1aa43e5e-0b40-4161-bffd-77938fd3abd2",
   "metadata": {},
   "outputs": [
    {
     "data": {
      "text/plain": [
       "['id',\n",
       " 'current_age',\n",
       " 'retirement_age',\n",
       " 'birth_year',\n",
       " 'birth_month',\n",
       " 'gender',\n",
       " 'address',\n",
       " 'latitude',\n",
       " 'longitude',\n",
       " 'per_capita_income',\n",
       " 'yearly_income',\n",
       " 'total_debt',\n",
       " 'credit_score',\n",
       " 'num_credit_cards']"
      ]
     },
     "execution_count": 11,
     "metadata": {},
     "output_type": "execute_result"
    }
   ],
   "source": [
    "raw_data.columns.tolist()"
   ]
  },
  {
   "cell_type": "code",
   "execution_count": 12,
   "id": "e332d663-bf94-452c-8477-d1f84e6b2d41",
   "metadata": {},
   "outputs": [
    {
     "data": {
      "text/html": [
       "<div>\n",
       "<style scoped>\n",
       "    .dataframe tbody tr th:only-of-type {\n",
       "        vertical-align: middle;\n",
       "    }\n",
       "\n",
       "    .dataframe tbody tr th {\n",
       "        vertical-align: top;\n",
       "    }\n",
       "\n",
       "    .dataframe thead th {\n",
       "        text-align: right;\n",
       "    }\n",
       "</style>\n",
       "<table border=\"1\" class=\"dataframe\">\n",
       "  <thead>\n",
       "    <tr style=\"text-align: right;\">\n",
       "      <th></th>\n",
       "      <th>id</th>\n",
       "      <th>current_age</th>\n",
       "      <th>retirement_age</th>\n",
       "      <th>birth_year</th>\n",
       "      <th>birth_month</th>\n",
       "      <th>gender</th>\n",
       "      <th>address</th>\n",
       "      <th>latitude</th>\n",
       "      <th>longitude</th>\n",
       "      <th>per_capita_income</th>\n",
       "      <th>yearly_income</th>\n",
       "      <th>total_debt</th>\n",
       "      <th>credit_score</th>\n",
       "      <th>num_credit_cards</th>\n",
       "    </tr>\n",
       "  </thead>\n",
       "  <tbody>\n",
       "    <tr>\n",
       "      <th>0</th>\n",
       "      <td>0</td>\n",
       "      <td>33</td>\n",
       "      <td>69</td>\n",
       "      <td>1986</td>\n",
       "      <td>3</td>\n",
       "      <td>Male</td>\n",
       "      <td>858 Plum Avenue</td>\n",
       "      <td>43.59</td>\n",
       "      <td>-70.33</td>\n",
       "      <td>$29237</td>\n",
       "      <td>$59613</td>\n",
       "      <td>$36199</td>\n",
       "      <td>763</td>\n",
       "      <td>4</td>\n",
       "    </tr>\n",
       "    <tr>\n",
       "      <th>1</th>\n",
       "      <td>1</td>\n",
       "      <td>43</td>\n",
       "      <td>74</td>\n",
       "      <td>1976</td>\n",
       "      <td>4</td>\n",
       "      <td>Female</td>\n",
       "      <td>113 Burns Lane</td>\n",
       "      <td>30.44</td>\n",
       "      <td>-87.18</td>\n",
       "      <td>$22247</td>\n",
       "      <td>$45360</td>\n",
       "      <td>$14587</td>\n",
       "      <td>704</td>\n",
       "      <td>3</td>\n",
       "    </tr>\n",
       "    <tr>\n",
       "      <th>2</th>\n",
       "      <td>2</td>\n",
       "      <td>48</td>\n",
       "      <td>64</td>\n",
       "      <td>1971</td>\n",
       "      <td>8</td>\n",
       "      <td>Male</td>\n",
       "      <td>6035 Forest Avenue</td>\n",
       "      <td>40.84</td>\n",
       "      <td>-73.87</td>\n",
       "      <td>$13461</td>\n",
       "      <td>$27447</td>\n",
       "      <td>$80850</td>\n",
       "      <td>673</td>\n",
       "      <td>5</td>\n",
       "    </tr>\n",
       "    <tr>\n",
       "      <th>3</th>\n",
       "      <td>3</td>\n",
       "      <td>49</td>\n",
       "      <td>65</td>\n",
       "      <td>1970</td>\n",
       "      <td>12</td>\n",
       "      <td>Male</td>\n",
       "      <td>840 Elm Avenue</td>\n",
       "      <td>33.89</td>\n",
       "      <td>-98.51</td>\n",
       "      <td>$13705</td>\n",
       "      <td>$27943</td>\n",
       "      <td>$18693</td>\n",
       "      <td>681</td>\n",
       "      <td>4</td>\n",
       "    </tr>\n",
       "    <tr>\n",
       "      <th>4</th>\n",
       "      <td>4</td>\n",
       "      <td>54</td>\n",
       "      <td>72</td>\n",
       "      <td>1965</td>\n",
       "      <td>3</td>\n",
       "      <td>Female</td>\n",
       "      <td>6016 Little Creek Boulevard</td>\n",
       "      <td>47.61</td>\n",
       "      <td>-122.30</td>\n",
       "      <td>$37485</td>\n",
       "      <td>$76431</td>\n",
       "      <td>$115362</td>\n",
       "      <td>716</td>\n",
       "      <td>5</td>\n",
       "    </tr>\n",
       "  </tbody>\n",
       "</table>\n",
       "</div>"
      ],
      "text/plain": [
       "   id  current_age  retirement_age  birth_year  birth_month  gender  \\\n",
       "0   0           33              69        1986            3    Male   \n",
       "1   1           43              74        1976            4  Female   \n",
       "2   2           48              64        1971            8    Male   \n",
       "3   3           49              65        1970           12    Male   \n",
       "4   4           54              72        1965            3  Female   \n",
       "\n",
       "                       address  latitude  longitude per_capita_income  \\\n",
       "0              858 Plum Avenue     43.59     -70.33            $29237   \n",
       "1               113 Burns Lane     30.44     -87.18            $22247   \n",
       "2           6035 Forest Avenue     40.84     -73.87            $13461   \n",
       "3               840 Elm Avenue     33.89     -98.51            $13705   \n",
       "4  6016 Little Creek Boulevard     47.61    -122.30            $37485   \n",
       "\n",
       "  yearly_income total_debt  credit_score  num_credit_cards  \n",
       "0        $59613     $36199           763                 4  \n",
       "1        $45360     $14587           704                 3  \n",
       "2        $27447     $80850           673                 5  \n",
       "3        $27943     $18693           681                 4  \n",
       "4        $76431    $115362           716                 5  "
      ]
     },
     "execution_count": 12,
     "metadata": {},
     "output_type": "execute_result"
    }
   ],
   "source": [
    "raw_data.head()"
   ]
  },
  {
   "cell_type": "code",
   "execution_count": 13,
   "id": "39b4ff10-f77a-4560-9e0f-1a6274010e0b",
   "metadata": {},
   "outputs": [
    {
     "data": {
      "text/plain": [
       "1999"
      ]
     },
     "execution_count": 13,
     "metadata": {},
     "output_type": "execute_result"
    }
   ],
   "source": [
    "raw_data.id.max()"
   ]
  },
  {
   "cell_type": "code",
   "execution_count": null,
   "id": "bcae21ce-3f8b-4701-b938-c46dde76fbcd",
   "metadata": {},
   "outputs": [],
   "source": []
  }
 ],
 "metadata": {
  "kernelspec": {
   "display_name": "Python 3 (ipykernel)",
   "language": "python",
   "name": "python3"
  },
  "language_info": {
   "codemirror_mode": {
    "name": "ipython",
    "version": 3
   },
   "file_extension": ".py",
   "mimetype": "text/x-python",
   "name": "python",
   "nbconvert_exporter": "python",
   "pygments_lexer": "ipython3",
   "version": "3.13.5"
  }
 },
 "nbformat": 4,
 "nbformat_minor": 5
}
