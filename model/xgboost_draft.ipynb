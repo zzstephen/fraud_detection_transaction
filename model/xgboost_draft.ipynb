{
 "cells": [
  {
   "cell_type": "code",
   "execution_count": 1,
   "id": "1e78cdb9-d8ef-4d23-9669-51601b7747e6",
   "metadata": {},
   "outputs": [],
   "source": [
    "import warnings\n",
    "warnings.filterwarnings('ignore')\n",
    "import pandas as pd\n",
    "import numpy as np\n",
    "import sys\n",
    "sys.path.append('../../../../infrastructure/tools')\n",
    "from utilities import *\n",
    "from plotting import *\n",
    "import pdb\n",
    "from sklearn.model_selection import KFold\n",
    "from sklearn.model_selection import GridSearchCV\n",
    "from sklearn.model_selection import StratifiedKFold\n",
    "import time\n",
    "from xgboost import XGBClassifier\n",
    "from sklearn.model_selection import train_test_split\n",
    "from sklearn.metrics import roc_auc_score\n",
    "import xgboost as xgb\n",
    "import time\n",
    "from sklearn.metrics import confusion_matrix\n",
    "from sklearn.metrics import ConfusionMatrixDisplay"
   ]
  },
  {
   "cell_type": "code",
   "execution_count": 2,
   "id": "1954da45-5832-4bd0-aa8b-f8a9560c2af6",
   "metadata": {},
   "outputs": [],
   "source": [
    "data = pd.read_csv(\"../../../data/processed_data/training_user.csv\")"
   ]
  },
  {
   "cell_type": "code",
   "execution_count": 3,
   "id": "8b24d84d-aa54-4681-b09d-9b93fae12895",
   "metadata": {},
   "outputs": [
    {
     "data": {
      "text/plain": [
       "['transaction_id',\n",
       " 'date',\n",
       " 'user_id',\n",
       " 'card_id',\n",
       " 'amount',\n",
       " 'use_chip',\n",
       " 'merchant_id',\n",
       " 'zip',\n",
       " 'target',\n",
       " 'card_brand',\n",
       " 'card_type',\n",
       " 'card_number',\n",
       " 'expires',\n",
       " 'cvv',\n",
       " 'has_chip',\n",
       " 'num_cards_issued',\n",
       " 'credit_limit',\n",
       " 'acct_open_date',\n",
       " 'year_pin_last_changed',\n",
       " 'card_on_dark_web',\n",
       " 'current_age',\n",
       " 'retirement_age',\n",
       " 'birth_year',\n",
       " 'birth_month',\n",
       " 'gender',\n",
       " 'address',\n",
       " 'latitude',\n",
       " 'longitude',\n",
       " 'per_capita_income',\n",
       " 'yearly_income',\n",
       " 'total_debt',\n",
       " 'credit_score',\n",
       " 'num_credit_cards',\n",
       " 'sum_credit_limit',\n",
       " 'sum_card_on_dark_web',\n",
       " 'dti',\n",
       " 'income_to_median',\n",
       " 'geo_encoding',\n",
       " 'date_year',\n",
       " 'date_month',\n",
       " 'date_weekend',\n",
       " 'date_year_end',\n",
       " 'date_year_start',\n",
       " 'date_hour',\n",
       " 'amount_24_hours_user_id',\n",
       " 'amount_3_days_user_id',\n",
       " 'amount_7_days_user_id',\n",
       " 'amount_30_days_user_id',\n",
       " 'amount_60_days_user_id',\n",
       " 'amount_90_days_user_id',\n",
       " 'merchant_state_nan',\n",
       " 'merchant_state_0',\n",
       " 'merchant_state_1',\n",
       " 'merchant_state_2',\n",
       " 'merchant_state_3',\n",
       " 'merchant_state_4',\n",
       " 'merchant_state_5',\n",
       " 'merchant_state_6',\n",
       " 'merchant_state_7',\n",
       " 'merchant_state_8',\n",
       " 'merchant_state_9',\n",
       " 'merchant_state_10',\n",
       " 'mcc_nan',\n",
       " 'mcc_0',\n",
       " 'mcc_1',\n",
       " 'mcc_2',\n",
       " 'mcc_3',\n",
       " 'mcc_4',\n",
       " 'mcc_5',\n",
       " 'mcc_6',\n",
       " 'mcc_7',\n",
       " 'mcc_8',\n",
       " 'errors_nan',\n",
       " 'errors_0',\n",
       " 'errors_1',\n",
       " 'errors_2',\n",
       " 'merchant_type_Cleaning and Maintenance Services',\n",
       " 'merchant_type_nan',\n",
       " 'merchant_type_0',\n",
       " 'merchant_type_1',\n",
       " 'merchant_type_2',\n",
       " 'merchant_type_3',\n",
       " 'merchant_type_4',\n",
       " 'merchant_type_5',\n",
       " 'merchant_type_6',\n",
       " 'merchant_type_7',\n",
       " 'merchant_type_8',\n",
       " 'merchant_type_9',\n",
       " 'merchant_city_Annandale',\n",
       " 'merchant_city_Buchanan',\n",
       " 'merchant_city_Buchanan Dam',\n",
       " 'merchant_city_Chenango Forks',\n",
       " 'merchant_city_Chittenango',\n",
       " 'merchant_city_Ferdinand',\n",
       " 'merchant_city_Fernandina Beach',\n",
       " 'merchant_city_Hernando',\n",
       " 'merchant_city_Kenansville',\n",
       " 'merchant_city_Menan',\n",
       " 'merchant_city_Newnan',\n",
       " 'merchant_city_San Fernando',\n",
       " 'merchant_city_Shenandoah',\n",
       " 'merchant_city_Swannanoa',\n",
       " 'merchant_city_Venango',\n",
       " 'merchant_city_nan',\n",
       " 'merchant_city_0',\n",
       " 'merchant_city_1']"
      ]
     },
     "execution_count": 3,
     "metadata": {},
     "output_type": "execute_result"
    }
   ],
   "source": [
    "data.columns.tolist()"
   ]
  },
  {
   "cell_type": "code",
   "execution_count": 4,
   "id": "a98dfcd8-75a7-4523-ad94-91a9ca0c4d87",
   "metadata": {},
   "outputs": [],
   "source": [
    "x_vars = [\n",
    " 'amount',\n",
    " 'use_chip',\n",
    " 'card_brand',\n",
    " 'card_type',\n",
    " 'has_chip',\n",
    " 'num_cards_issued',\n",
    " 'credit_limit',\n",
    " 'year_pin_last_changed',\n",
    " 'current_age',\n",
    " 'retirement_age',\n",
    " 'birth_year',\n",
    " 'birth_month',\n",
    " 'credit_score',\n",
    " 'num_credit_cards',\n",
    " 'sum_credit_limit',\n",
    " 'sum_card_on_dark_web',\n",
    " 'dti',\n",
    " 'income_to_median',\n",
    " 'geo_encoding',\n",
    " 'date_year',\n",
    " 'date_month',\n",
    " 'date_weekend',\n",
    " 'date_year_end',\n",
    " 'date_year_start',\n",
    " 'date_hour',\n",
    " 'amount_24_hours_user_id',\n",
    " 'amount_3_days_user_id',\n",
    " 'amount_7_days_user_id',\n",
    " 'amount_30_days_user_id',\n",
    " 'amount_60_days_user_id',\n",
    " 'amount_90_days_user_id',\n",
    " 'merchant_state_nan',\n",
    " 'merchant_state_0',\n",
    " 'merchant_state_1',\n",
    " 'merchant_state_2',\n",
    " 'merchant_state_3',\n",
    " 'merchant_state_4',\n",
    " 'merchant_state_5',\n",
    " 'merchant_state_6',\n",
    " 'merchant_state_7',\n",
    " 'merchant_state_8',\n",
    " 'merchant_state_9',\n",
    " 'merchant_state_10',\n",
    " 'mcc_nan',\n",
    " 'mcc_0',\n",
    " 'mcc_1',\n",
    " 'mcc_2',\n",
    " 'mcc_3',\n",
    " 'mcc_4',\n",
    " 'mcc_5',\n",
    " 'mcc_6',\n",
    " 'mcc_7',\n",
    " 'mcc_8',\n",
    " 'errors_nan',\n",
    " 'errors_0',\n",
    " 'errors_1',\n",
    " 'errors_2',\n",
    " 'merchant_type_Cleaning and Maintenance Services',\n",
    " 'merchant_type_nan',\n",
    " 'merchant_type_0',\n",
    " 'merchant_type_1',\n",
    " 'merchant_type_2',\n",
    " 'merchant_type_3',\n",
    " 'merchant_type_4',\n",
    " 'merchant_type_5',\n",
    " 'merchant_type_6',\n",
    " 'merchant_type_7',\n",
    " 'merchant_type_8',\n",
    " 'merchant_type_9',\n",
    " 'merchant_city_Annandale',\n",
    " 'merchant_city_Buchanan',\n",
    " 'merchant_city_Buchanan Dam',\n",
    " 'merchant_city_Chenango Forks',\n",
    " 'merchant_city_Chittenango',\n",
    " 'merchant_city_Ferdinand',\n",
    " 'merchant_city_Fernandina Beach',\n",
    " 'merchant_city_Hernando',\n",
    " 'merchant_city_Kenansville',\n",
    " 'merchant_city_Menan',\n",
    " 'merchant_city_Newnan',\n",
    " 'merchant_city_San Fernando',\n",
    " 'merchant_city_Shenandoah',\n",
    " 'merchant_city_Swannanoa',\n",
    " 'merchant_city_Venango',\n",
    " 'merchant_city_nan',\n",
    " 'merchant_city_0',\n",
    " 'merchant_city_1']"
   ]
  },
  {
   "cell_type": "code",
   "execution_count": 5,
   "id": "9a480015-dfd6-4dc6-8284-6b3c1f3cbbe3",
   "metadata": {},
   "outputs": [],
   "source": [
    "X = data[x_vars]"
   ]
  },
  {
   "cell_type": "code",
   "execution_count": 6,
   "id": "36dad92f-81f6-45d1-b155-c3e74a678133",
   "metadata": {},
   "outputs": [],
   "source": [
    "qcut_vars = ['dti','credit_score']"
   ]
  },
  {
   "cell_type": "code",
   "execution_count": 7,
   "id": "0b90a7ce-4c1a-4892-a098-4e35c9dff54c",
   "metadata": {},
   "outputs": [],
   "source": [
    "qcut_dict = {}\n",
    "for var in qcut_vars:\n",
    "    qcut_dict[var] = [i*0.1 for i in range(0,11)]"
   ]
  },
  {
   "cell_type": "code",
   "execution_count": 8,
   "id": "c396ddef-4875-4943-a9f1-4632e4007008",
   "metadata": {},
   "outputs": [],
   "source": [
    "data, cps = utilities.binning_q(data, qcut_dict)"
   ]
  },
  {
   "cell_type": "code",
   "execution_count": 9,
   "id": "d0099923-b289-4125-8e97-ea85bbaa2171",
   "metadata": {},
   "outputs": [],
   "source": [
    "xy = utilities.pivot(data, varlist={'target':'logodds', 'dti':'mean'}, by_vars = ['dti_bin'])"
   ]
  },
  {
   "cell_type": "code",
   "execution_count": 10,
   "id": "41b0b34e-4994-4bc6-b899-4d3bb0f5dbe8",
   "metadata": {},
   "outputs": [
    {
     "data": {
      "text/html": [
       "<div>\n",
       "<style scoped>\n",
       "    .dataframe tbody tr th:only-of-type {\n",
       "        vertical-align: middle;\n",
       "    }\n",
       "\n",
       "    .dataframe tbody tr th {\n",
       "        vertical-align: top;\n",
       "    }\n",
       "\n",
       "    .dataframe thead th {\n",
       "        text-align: right;\n",
       "    }\n",
       "</style>\n",
       "<table border=\"1\" class=\"dataframe\">\n",
       "  <thead>\n",
       "    <tr style=\"text-align: right;\">\n",
       "      <th></th>\n",
       "      <th>dti_bin</th>\n",
       "      <th>count</th>\n",
       "      <th>logodds_target</th>\n",
       "      <th>mean_dti</th>\n",
       "    </tr>\n",
       "  </thead>\n",
       "  <tbody>\n",
       "    <tr>\n",
       "      <th>0</th>\n",
       "      <td>0</td>\n",
       "      <td>55760</td>\n",
       "      <td>-6.416319</td>\n",
       "      <td>0.010910</td>\n",
       "    </tr>\n",
       "    <tr>\n",
       "      <th>1</th>\n",
       "      <td>1</td>\n",
       "      <td>55522</td>\n",
       "      <td>-6.516337</td>\n",
       "      <td>0.112421</td>\n",
       "    </tr>\n",
       "    <tr>\n",
       "      <th>2</th>\n",
       "      <td>2</td>\n",
       "      <td>54909</td>\n",
       "      <td>-6.357824</td>\n",
       "      <td>0.442430</td>\n",
       "    </tr>\n",
       "    <tr>\n",
       "      <th>3</th>\n",
       "      <td>3</td>\n",
       "      <td>55326</td>\n",
       "      <td>-6.246234</td>\n",
       "      <td>0.782573</td>\n",
       "    </tr>\n",
       "    <tr>\n",
       "      <th>4</th>\n",
       "      <td>4</td>\n",
       "      <td>55596</td>\n",
       "      <td>-6.935911</td>\n",
       "      <td>1.153461</td>\n",
       "    </tr>\n",
       "    <tr>\n",
       "      <th>5</th>\n",
       "      <td>5</td>\n",
       "      <td>55485</td>\n",
       "      <td>-6.828441</td>\n",
       "      <td>1.391611</td>\n",
       "    </tr>\n",
       "    <tr>\n",
       "      <th>6</th>\n",
       "      <td>6</td>\n",
       "      <td>55100</td>\n",
       "      <td>-6.625120</td>\n",
       "      <td>1.620061</td>\n",
       "    </tr>\n",
       "    <tr>\n",
       "      <th>7</th>\n",
       "      <td>7</td>\n",
       "      <td>55809</td>\n",
       "      <td>-5.622777</td>\n",
       "      <td>1.887540</td>\n",
       "    </tr>\n",
       "    <tr>\n",
       "      <th>8</th>\n",
       "      <td>8</td>\n",
       "      <td>54725</td>\n",
       "      <td>-6.734500</td>\n",
       "      <td>2.195413</td>\n",
       "    </tr>\n",
       "    <tr>\n",
       "      <th>9</th>\n",
       "      <td>9</td>\n",
       "      <td>55328</td>\n",
       "      <td>-6.476846</td>\n",
       "      <td>2.815094</td>\n",
       "    </tr>\n",
       "  </tbody>\n",
       "</table>\n",
       "</div>"
      ],
      "text/plain": [
       "  dti_bin  count  logodds_target  mean_dti\n",
       "0       0  55760       -6.416319  0.010910\n",
       "1       1  55522       -6.516337  0.112421\n",
       "2       2  54909       -6.357824  0.442430\n",
       "3       3  55326       -6.246234  0.782573\n",
       "4       4  55596       -6.935911  1.153461\n",
       "5       5  55485       -6.828441  1.391611\n",
       "6       6  55100       -6.625120  1.620061\n",
       "7       7  55809       -5.622777  1.887540\n",
       "8       8  54725       -6.734500  2.195413\n",
       "9       9  55328       -6.476846  2.815094"
      ]
     },
     "execution_count": 10,
     "metadata": {},
     "output_type": "execute_result"
    }
   ],
   "source": [
    "xy"
   ]
  },
  {
   "cell_type": "code",
   "execution_count": 11,
   "id": "49e78241-802b-44ef-88d7-06ad60c57311",
   "metadata": {},
   "outputs": [],
   "source": [
    "figs = []\n",
    "for var in qcut_vars:\n",
    "    var_bin = f\"{var}_bin\"\n",
    "    xy = utilities.pivot(data, varlist={'target':'logodds', var:'mean'}, by_vars = [var_bin])\n",
    "    figs.append(plotting.px_scatter_plot(xy, f'mean_{var}', 'logodds_target', show=False))"
   ]
  },
  {
   "cell_type": "code",
   "execution_count": 12,
   "id": "35acda6e-6150-4262-94fd-24fdf9dfe793",
   "metadata": {},
   "outputs": [],
   "source": [
    "if os.path.exists(\"logodds_plots.html\"):\n",
    "  os.remove(\"logodds_plots.html\")\n",
    "    \n",
    "with open('logodds_plots.html', 'a') as file:\n",
    "    for f in figs:\n",
    "        file.write(f.to_html())"
   ]
  },
  {
   "cell_type": "code",
   "execution_count": 13,
   "id": "f0cc5fc8-8321-4075-9de3-6964176a8a2a",
   "metadata": {},
   "outputs": [],
   "source": [
    "params = {\n",
    "        'min_child_weight':100,\n",
    "        'reg_alpha':0.3,\n",
    "        'subsample': 0.7,\n",
    "        'colsample_bytree': 0.6,\n",
    "        'max_depth': 3,\n",
    "        'learning_rate': 0.02\n",
    "        }"
   ]
  },
  {
   "cell_type": "code",
   "execution_count": 14,
   "id": "f8b14808-6b3b-4745-a4a6-a14a52cc0c2b",
   "metadata": {},
   "outputs": [],
   "source": [
    "for v in ['use_chip','card_brand','card_type','has_chip']:\n",
    "    data[v] = data[v].astype('category')"
   ]
  },
  {
   "cell_type": "code",
   "execution_count": 15,
   "id": "511f2ba9-3775-4ff8-982a-98ffe4e8edb8",
   "metadata": {},
   "outputs": [],
   "source": [
    "X = data[x_vars]\n",
    "y = data['target']"
   ]
  },
  {
   "cell_type": "code",
   "execution_count": 16,
   "id": "8e08578b-297e-4f12-8abb-82ee503db062",
   "metadata": {},
   "outputs": [],
   "source": [
    "model = XGBClassifier(n_estimators=100, random_state=12, enable_categorical=True, params=params)"
   ]
  },
  {
   "cell_type": "code",
   "execution_count": 17,
   "id": "491c8088-3db3-479a-967a-b91603be7b7d",
   "metadata": {},
   "outputs": [
    {
     "name": "stdout",
     "output_type": "stream",
     "text": [
      "Elapsed time: 1.947739839553833 seconds\n"
     ]
    }
   ],
   "source": [
    "start_time = time.time()\n",
    "model.fit(X,y)\n",
    "end_time = time.time()\n",
    "elapsed_time = end_time - start_time\n",
    "print(f\"Elapsed time: {elapsed_time} seconds\")"
   ]
  },
  {
   "cell_type": "code",
   "execution_count": 18,
   "id": "d169642a-74e8-47e5-b326-3e5bc8a1a1da",
   "metadata": {},
   "outputs": [
    {
     "name": "stdout",
     "output_type": "stream",
     "text": [
      "AUROC score: 0.9233242539458771\n"
     ]
    }
   ],
   "source": [
    "y_pred = model.predict(X)\n",
    "auroc = roc_auc_score(y, y_pred)\n",
    "print(f\"AUROC score: {auroc}\")"
   ]
  },
  {
   "cell_type": "code",
   "execution_count": 19,
   "id": "4fcb13af-6ff5-4486-8318-793f5bb8ff79",
   "metadata": {},
   "outputs": [],
   "source": [
    "importances = model.feature_importances_\n",
    "feature_imp = pd.DataFrame(columns=['feature','importance'])"
   ]
  },
  {
   "cell_type": "code",
   "execution_count": 20,
   "id": "e93dabd1-4aa8-49a5-9acb-b127fd785a22",
   "metadata": {},
   "outputs": [],
   "source": [
    "feature_imp.feature = X.columns\n",
    "feature_imp.importance = importances"
   ]
  },
  {
   "cell_type": "code",
   "execution_count": 21,
   "id": "d3584bc2-207f-4964-9494-7eabc8a88ab6",
   "metadata": {},
   "outputs": [],
   "source": [
    "feature_imp = feature_imp.sort_values('importance', ascending=False)"
   ]
  },
  {
   "cell_type": "code",
   "execution_count": null,
   "id": "93787fc8-aed5-44b5-b595-7c252a491c32",
   "metadata": {},
   "outputs": [],
   "source": [
    "test_data = pd.read_csv(\"../../../data/processed_data/testing_user.csv\")\n",
    "for v in ['use_chip','card_brand','card_type','has_chip']:\n",
    "    test_data[v] = test_data[v].astype('category')"
   ]
  },
  {
   "cell_type": "code",
   "execution_count": null,
   "id": "f66fe349-fc22-4b62-b705-e32a46705735",
   "metadata": {},
   "outputs": [],
   "source": [
    "def choose_top_n(model,X,y,feature_list, nlist):\n",
    "\n",
    "    metrics = pd.DataFrame(columns=['test_auc','auc_diff', 'top_n'])\n",
    "\n",
    "    test_auc_list = []\n",
    "\n",
    "    auc_diff_list = []\n",
    "    \n",
    "    for n in nlist:\n",
    "        \n",
    "        top_n = feature_list[0:n]\n",
    "        X_top_n = X[top_n]\n",
    "        start_time = time.time()\n",
    "        model.fit(X_top_n,y)\n",
    "        end_time = time.time()\n",
    "        elapsed_time = end_time - start_time\n",
    "        print(f\"Elapsed time: {elapsed_time} seconds\")\n",
    "\n",
    "        y_pred = model.predict(X_top_n)\n",
    "        train_auroc = roc_auc_score(y, y_pred)\n",
    "        print(f\"training AUROC score: {train_auroc}\")\n",
    "\n",
    "        X_test = test_data[top_n]\n",
    "        y_test = test_data['target']\n",
    "\n",
    "        y_test_pred = model.predict(X_test)\n",
    "        test_auroc = roc_auc_score(y_test, y_test_pred)\n",
    "        print(f\"testing AUROC score: {test_auroc}\")\n",
    "\n",
    "        auc_diff_list.append(train_auroc-test_auroc)\n",
    "\n",
    "        test_auc_list.append(test_auroc)\n",
    "\n",
    "    metrics.test_auc = test_auc_list\n",
    "    metrics.auc_diff = auc_diff_list\n",
    "    metrics.top_n = nlist\n",
    "\n",
    "    return metrics.sort_values(by=['test_auc','auc_diff'], ascending=[False,True])\n",
    "        "
   ]
  },
  {
   "cell_type": "code",
   "execution_count": null,
   "id": "b5b5414a-b4bc-435d-9987-b9b3ae034e9c",
   "metadata": {},
   "outputs": [],
   "source": [
    "top = choose_top_n(model, X, y, feature_imp.feature.tolist(), nlist=range(10,20))"
   ]
  },
  {
   "cell_type": "code",
   "execution_count": null,
   "id": "8c83733d-3de9-4cd1-9189-39301225d453",
   "metadata": {},
   "outputs": [],
   "source": [
    "top.head(1)"
   ]
  },
  {
   "cell_type": "code",
   "execution_count": null,
   "id": "151186b8-eda2-4e81-a2f2-2e95352cfa7c",
   "metadata": {},
   "outputs": [],
   "source": [
    "x_vars = feature_imp.feature.head(15).tolist()"
   ]
  },
  {
   "cell_type": "code",
   "execution_count": null,
   "id": "8c4c0de9-8815-41fa-9ae9-5c42d03ff457",
   "metadata": {},
   "outputs": [],
   "source": [
    "start_time = time.time()\n",
    "model.fit(X[x_vars],y)\n",
    "end_time = time.time()\n",
    "elapsed_time = end_time - start_time\n",
    "print(f\"Elapsed time: {elapsed_time} seconds\")"
   ]
  },
  {
   "cell_type": "code",
   "execution_count": null,
   "id": "5c5edf63-c9db-46f7-bbb9-1cf29b39b5c2",
   "metadata": {},
   "outputs": [],
   "source": [
    "y_pred = model.predict(X[x_vars])"
   ]
  },
  {
   "cell_type": "code",
   "execution_count": null,
   "id": "cbb78342-6d9b-41b4-8389-a178a97e5375",
   "metadata": {},
   "outputs": [],
   "source": [
    "ConfusionMatrixDisplay.from_estimator(model, X[x_vars], y)"
   ]
  },
  {
   "cell_type": "code",
   "execution_count": null,
   "id": "e30193c5-e4ba-4cd3-83d5-bd3fe908644c",
   "metadata": {},
   "outputs": [],
   "source": [
    "X_test = test_data[x_vars]\n",
    "y_test = test_data['target']\n",
    "\n",
    "ConfusionMatrixDisplay.from_estimator(model, X_test, y_test)"
   ]
  },
  {
   "cell_type": "code",
   "execution_count": null,
   "id": "441b784d-653d-41c0-b133-0267dc6d1ee9",
   "metadata": {},
   "outputs": [],
   "source": []
  },
  {
   "cell_type": "code",
   "execution_count": null,
   "id": "fd6ef0e1-9455-45b5-8502-d38dfe1f3a54",
   "metadata": {},
   "outputs": [],
   "source": []
  }
 ],
 "metadata": {
  "kernelspec": {
   "display_name": "Python 3 (ipykernel)",
   "language": "python",
   "name": "python3"
  },
  "language_info": {
   "codemirror_mode": {
    "name": "ipython",
    "version": 3
   },
   "file_extension": ".py",
   "mimetype": "text/x-python",
   "name": "python",
   "nbconvert_exporter": "python",
   "pygments_lexer": "ipython3",
   "version": "3.13.5"
  }
 },
 "nbformat": 4,
 "nbformat_minor": 5
}
